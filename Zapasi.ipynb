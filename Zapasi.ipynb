{
 "cells": [
  {
   "cell_type": "code",
   "execution_count": 1,
   "id": "5fb33271",
   "metadata": {
    "scrolled": true
   },
   "outputs": [],
   "source": [
    "import pandas as pd\n",
    "from matplotlib import pyplot as plt\n",
    "import seaborn as sns\n",
    "%matplotlib inline\n",
    "import numpy as np\n",
    "import math"
   ]
  },
  {
   "cell_type": "code",
   "execution_count": null,
   "id": "ea2afd66",
   "metadata": {},
   "outputs": [],
   "source": [
    "# Выполнить один раз в жизни - это установка библиотеки работы с dbf\n",
    "#!pip install geopandas \n",
    "import geopandas as gpd\n",
    "df = gpd.read_file('OM.DBF', encoding='cp1251')"
   ]
  },
  {
   "cell_type": "code",
   "execution_count": 2,
   "id": "29e497ad",
   "metadata": {},
   "outputs": [],
   "source": [
    "# прочитайте данные из файла \n",
    "i1 = pd.read_excel('PM.xlsx')\n",
    "i2 = pd.read_excel('OM.xlsx')"
   ]
  },
  {
   "cell_type": "code",
   "execution_count": 3,
   "id": "0534300a",
   "metadata": {},
   "outputs": [],
   "source": [
    "i3 = pd.read_excel('PM_NAT.xlsx')\n",
    "i4 = pd.read_excel('OM_NAT.xlsx')"
   ]
  },
  {
   "cell_type": "code",
   "execution_count": 4,
   "id": "2f39c150",
   "metadata": {},
   "outputs": [],
   "source": [
    "sprod = pd.read_excel('sprod.xlsx')\n",
    "pok1 = pd.read_excel('sprod1.xlsx')\n",
    "sp_nat = pd.read_excel('spzap.xlsx')\n",
    "sp_nat = sp_nat[[\"KOD\", \"KOD_PROD\"]]"
   ]
  },
  {
   "cell_type": "code",
   "execution_count": 5,
   "id": "6cf9a4a9",
   "metadata": {},
   "outputs": [],
   "source": [
    "sp_nat = pd.merge(sp_nat, sprod, how = 'left', on = 'KOD_PROD')"
   ]
  },
  {
   "cell_type": "code",
   "execution_count": 6,
   "id": "6835171c",
   "metadata": {},
   "outputs": [],
   "source": [
    "sp1 = pd.read_excel('spred.xlsx')\n",
    "sps = pd.read_excel('SPS.xlsx')"
   ]
  },
  {
   "cell_type": "code",
   "execution_count": 7,
   "id": "a0e11d1c",
   "metadata": {},
   "outputs": [],
   "source": [
    "ok1 = pd.read_excel('PM_OKOGU.xlsx')\n",
    "ok2 = pd.read_excel('OM_OKOGU.xlsx')"
   ]
  },
  {
   "cell_type": "code",
   "execution_count": 8,
   "id": "3b6a1ec8",
   "metadata": {},
   "outputs": [],
   "source": [
    "# задаем  следующий порядок следования столбцов \n",
    "i1 = i1[[\"C1\", \"C3\", \"C4\", \"TEMP2\"]]\n",
    "i2 = i2[[\"C1\", \"C3\", \"C4\", \"TEMP2\"]]\n",
    "i3 = i3[[\"C12\", \"C17\", \"C10\"]]\n",
    "i4 = i4[[\"C12\", \"C17\", \"C10\"]]\n",
    "\n",
    "ok1 = ok1[[\"C1\",  \"C4\", \"TEMP2\"]]\n",
    "ok2 = ok2[[\"C1\",  \"C4\", \"TEMP2\"]]"
   ]
  },
  {
   "cell_type": "code",
   "execution_count": 9,
   "id": "3fd19dcd",
   "metadata": {},
   "outputs": [],
   "source": [
    "# переименование столбцов СТОИМ\n",
    "i1 = i1.rename(columns = {'C3':'Объем предыдущий месяц', 'C4':'Запасы предыдущий месяц', 'TEMP2':'соотн предыдущий месяц', 'C1':'KOD'})\n",
    "i2 = i2.rename(columns = {'C3':'Объем отчетный месяц', 'C4':'Запасы отчетный месяц', 'TEMP2':'соотн отчетный месяц', 'C1':'KOD'})\n",
    "# переименование столбцов НАТУРА\n",
    "i3 = i3.rename(columns = {'C10':'Запасы_нат предыдущий месяц', 'C17':'KOD_PROD', 'C12':'KOD'})\n",
    "i4 = i4.rename(columns = {'C10':'Запасы_нат отчетный месяц', 'C17':'KOD_PROD', 'C12':'KOD'})"
   ]
  },
  {
   "cell_type": "code",
   "execution_count": 10,
   "id": "71afbb8f",
   "metadata": {},
   "outputs": [],
   "source": [
    "#Объединение\n",
    "sp_nat = pd.merge(sp_nat, i3, how = 'left', on = ['KOD', 'KOD_PROD'])"
   ]
  },
  {
   "cell_type": "code",
   "execution_count": 11,
   "id": "637856da",
   "metadata": {},
   "outputs": [
    {
     "data": {
      "text/html": [
       "<div>\n",
       "<style scoped>\n",
       "    .dataframe tbody tr th:only-of-type {\n",
       "        vertical-align: middle;\n",
       "    }\n",
       "\n",
       "    .dataframe tbody tr th {\n",
       "        vertical-align: top;\n",
       "    }\n",
       "\n",
       "    .dataframe thead th {\n",
       "        text-align: right;\n",
       "    }\n",
       "</style>\n",
       "<table border=\"1\" class=\"dataframe\">\n",
       "  <thead>\n",
       "    <tr style=\"text-align: right;\">\n",
       "      <th></th>\n",
       "      <th>KOD</th>\n",
       "      <th>KOD_PROD</th>\n",
       "      <th>NAME_PROD</th>\n",
       "      <th>g1</th>\n",
       "      <th>Запасы_нат предыдущий месяц</th>\n",
       "    </tr>\n",
       "  </thead>\n",
       "  <tbody>\n",
       "    <tr>\n",
       "      <th>0</th>\n",
       "      <td>58087295000</td>\n",
       "      <td>29.10.4</td>\n",
       "      <td>Автомобили грузовые, штук</td>\n",
       "      <td>5403.0</td>\n",
       "      <td>1099.0</td>\n",
       "    </tr>\n",
       "    <tr>\n",
       "      <th>1</th>\n",
       "      <td>58087295000</td>\n",
       "      <td>29.10.5</td>\n",
       "      <td>Автомобили специального назначения, штук</td>\n",
       "      <td>5453.0</td>\n",
       "      <td>72.0</td>\n",
       "    </tr>\n",
       "    <tr>\n",
       "      <th>2</th>\n",
       "      <td>58087295000</td>\n",
       "      <td>28.92.29</td>\n",
       "      <td>Автомобили-самосвалы для эксплуатации в услови...</td>\n",
       "      <td>5098.0</td>\n",
       "      <td>70.0</td>\n",
       "    </tr>\n",
       "    <tr>\n",
       "      <th>3</th>\n",
       "      <td>58087295000</td>\n",
       "      <td>29.10.30.001</td>\n",
       "      <td>Автобусы, штук</td>\n",
       "      <td>5380.0</td>\n",
       "      <td>67.0</td>\n",
       "    </tr>\n",
       "    <tr>\n",
       "      <th>4</th>\n",
       "      <td>58087126000</td>\n",
       "      <td>28.92.27.200</td>\n",
       "      <td>Землевозы (самосвалы карьерные), штук</td>\n",
       "      <td>6239.0</td>\n",
       "      <td>81.0</td>\n",
       "    </tr>\n",
       "    <tr>\n",
       "      <th>...</th>\n",
       "      <td>...</td>\n",
       "      <td>...</td>\n",
       "      <td>...</td>\n",
       "      <td>...</td>\n",
       "      <td>...</td>\n",
       "    </tr>\n",
       "    <tr>\n",
       "      <th>315</th>\n",
       "      <td>55423494000</td>\n",
       "      <td>11.03.10</td>\n",
       "      <td>Напитки ферментированные прочие (сидр яблочный...</td>\n",
       "      <td>958.0</td>\n",
       "      <td>21.0</td>\n",
       "    </tr>\n",
       "    <tr>\n",
       "      <th>316</th>\n",
       "      <td>55423494000</td>\n",
       "      <td>20.14.74.110</td>\n",
       "      <td>Спирт этиловый ректификованный из пищевого сыр...</td>\n",
       "      <td>2139.0</td>\n",
       "      <td>60.0</td>\n",
       "    </tr>\n",
       "    <tr>\n",
       "      <th>317</th>\n",
       "      <td>4538362000</td>\n",
       "      <td>10.51.40.500</td>\n",
       "      <td>Сыры твердые, сыры в порошке, сыры голубые и с...</td>\n",
       "      <td>402.0</td>\n",
       "      <td>346.0</td>\n",
       "    </tr>\n",
       "    <tr>\n",
       "      <th>318</th>\n",
       "      <td>4538362000</td>\n",
       "      <td>10.99.03</td>\n",
       "      <td>Цельномолочная продукция (в пересчете на молок...</td>\n",
       "      <td>879.0</td>\n",
       "      <td>21.0</td>\n",
       "    </tr>\n",
       "    <tr>\n",
       "      <th>319</th>\n",
       "      <td>4538362000</td>\n",
       "      <td>10.51.30</td>\n",
       "      <td>Масло сливочное и пасты молочные, т</td>\n",
       "      <td>388.0</td>\n",
       "      <td>16.0</td>\n",
       "    </tr>\n",
       "  </tbody>\n",
       "</table>\n",
       "<p>320 rows × 5 columns</p>\n",
       "</div>"
      ],
      "text/plain": [
       "             KOD      KOD_PROD  \\\n",
       "0    58087295000       29.10.4   \n",
       "1    58087295000       29.10.5   \n",
       "2    58087295000      28.92.29   \n",
       "3    58087295000  29.10.30.001   \n",
       "4    58087126000  28.92.27.200   \n",
       "..           ...           ...   \n",
       "315  55423494000      11.03.10   \n",
       "316  55423494000  20.14.74.110   \n",
       "317   4538362000  10.51.40.500   \n",
       "318   4538362000      10.99.03   \n",
       "319   4538362000      10.51.30   \n",
       "\n",
       "                                             NAME_PROD      g1  \\\n",
       "0                            Автомобили грузовые, штук  5403.0   \n",
       "1             Автомобили специального назначения, штук  5453.0   \n",
       "2    Автомобили-самосвалы для эксплуатации в услови...  5098.0   \n",
       "3                                       Автобусы, штук  5380.0   \n",
       "4                Землевозы (самосвалы карьерные), штук  6239.0   \n",
       "..                                                 ...     ...   \n",
       "315  Напитки ферментированные прочие (сидр яблочный...   958.0   \n",
       "316  Спирт этиловый ректификованный из пищевого сыр...  2139.0   \n",
       "317  Сыры твердые, сыры в порошке, сыры голубые и с...   402.0   \n",
       "318  Цельномолочная продукция (в пересчете на молок...   879.0   \n",
       "319                Масло сливочное и пасты молочные, т   388.0   \n",
       "\n",
       "     Запасы_нат предыдущий месяц  \n",
       "0                         1099.0  \n",
       "1                           72.0  \n",
       "2                           70.0  \n",
       "3                           67.0  \n",
       "4                           81.0  \n",
       "..                           ...  \n",
       "315                         21.0  \n",
       "316                         60.0  \n",
       "317                        346.0  \n",
       "318                         21.0  \n",
       "319                         16.0  \n",
       "\n",
       "[320 rows x 5 columns]"
      ]
     },
     "execution_count": 11,
     "metadata": {},
     "output_type": "execute_result"
    }
   ],
   "source": [
    "sp_nat"
   ]
  },
  {
   "cell_type": "code",
   "execution_count": 12,
   "id": "1cd3f4c9",
   "metadata": {},
   "outputs": [],
   "source": [
    "#Объединение\n",
    "sp_nat = pd.merge(sp_nat, i4, how = 'left', on = ['KOD', 'KOD_PROD'])"
   ]
  },
  {
   "cell_type": "code",
   "execution_count": 13,
   "id": "abf7ca1e",
   "metadata": {},
   "outputs": [],
   "source": [
    "#довавляем новый столбец разница соотношений\n",
    "sp_nat['разница запасов_нат'] = (sp_nat['Запасы_нат отчетный месяц'] -  sp_nat['Запасы_нат предыдущий месяц']).round(1)"
   ]
  },
  {
   "cell_type": "code",
   "execution_count": 14,
   "id": "d4b7853d",
   "metadata": {},
   "outputs": [],
   "source": [
    "#!!! ИТОГ НАТУРА\n",
    "sp_nat = sp_nat[[\"KOD\", \"KOD_PROD\", \"NAME_PROD\", \"Запасы_нат предыдущий месяц\", \"Запасы_нат отчетный месяц\", 'разница запасов_нат', \"g1\"]]"
   ]
  },
  {
   "cell_type": "code",
   "execution_count": 15,
   "id": "7fce672f",
   "metadata": {},
   "outputs": [
    {
     "data": {
      "text/html": [
       "<div>\n",
       "<style scoped>\n",
       "    .dataframe tbody tr th:only-of-type {\n",
       "        vertical-align: middle;\n",
       "    }\n",
       "\n",
       "    .dataframe tbody tr th {\n",
       "        vertical-align: top;\n",
       "    }\n",
       "\n",
       "    .dataframe thead th {\n",
       "        text-align: right;\n",
       "    }\n",
       "</style>\n",
       "<table border=\"1\" class=\"dataframe\">\n",
       "  <thead>\n",
       "    <tr style=\"text-align: right;\">\n",
       "      <th></th>\n",
       "      <th>KOD</th>\n",
       "      <th>KOD_PROD</th>\n",
       "      <th>NAME_PROD</th>\n",
       "      <th>Запасы_нат предыдущий месяц</th>\n",
       "      <th>Запасы_нат отчетный месяц</th>\n",
       "      <th>разница запасов_нат</th>\n",
       "      <th>g1</th>\n",
       "    </tr>\n",
       "  </thead>\n",
       "  <tbody>\n",
       "    <tr>\n",
       "      <th>0</th>\n",
       "      <td>58087295000</td>\n",
       "      <td>29.10.4</td>\n",
       "      <td>Автомобили грузовые, штук</td>\n",
       "      <td>1099.0</td>\n",
       "      <td>1140.0</td>\n",
       "      <td>41.0</td>\n",
       "      <td>5403.0</td>\n",
       "    </tr>\n",
       "    <tr>\n",
       "      <th>1</th>\n",
       "      <td>58087295000</td>\n",
       "      <td>29.10.5</td>\n",
       "      <td>Автомобили специального назначения, штук</td>\n",
       "      <td>72.0</td>\n",
       "      <td>65.0</td>\n",
       "      <td>-7.0</td>\n",
       "      <td>5453.0</td>\n",
       "    </tr>\n",
       "    <tr>\n",
       "      <th>2</th>\n",
       "      <td>58087295000</td>\n",
       "      <td>28.92.29</td>\n",
       "      <td>Автомобили-самосвалы для эксплуатации в услови...</td>\n",
       "      <td>70.0</td>\n",
       "      <td>129.0</td>\n",
       "      <td>59.0</td>\n",
       "      <td>5098.0</td>\n",
       "    </tr>\n",
       "    <tr>\n",
       "      <th>3</th>\n",
       "      <td>58087295000</td>\n",
       "      <td>29.10.30.001</td>\n",
       "      <td>Автобусы, штук</td>\n",
       "      <td>67.0</td>\n",
       "      <td>76.0</td>\n",
       "      <td>9.0</td>\n",
       "      <td>5380.0</td>\n",
       "    </tr>\n",
       "    <tr>\n",
       "      <th>4</th>\n",
       "      <td>58087126000</td>\n",
       "      <td>28.92.27.200</td>\n",
       "      <td>Землевозы (самосвалы карьерные), штук</td>\n",
       "      <td>81.0</td>\n",
       "      <td>102.0</td>\n",
       "      <td>21.0</td>\n",
       "      <td>6239.0</td>\n",
       "    </tr>\n",
       "    <tr>\n",
       "      <th>...</th>\n",
       "      <td>...</td>\n",
       "      <td>...</td>\n",
       "      <td>...</td>\n",
       "      <td>...</td>\n",
       "      <td>...</td>\n",
       "      <td>...</td>\n",
       "      <td>...</td>\n",
       "    </tr>\n",
       "    <tr>\n",
       "      <th>315</th>\n",
       "      <td>55423494000</td>\n",
       "      <td>11.03.10</td>\n",
       "      <td>Напитки ферментированные прочие (сидр яблочный...</td>\n",
       "      <td>21.0</td>\n",
       "      <td>24.0</td>\n",
       "      <td>3.0</td>\n",
       "      <td>958.0</td>\n",
       "    </tr>\n",
       "    <tr>\n",
       "      <th>316</th>\n",
       "      <td>55423494000</td>\n",
       "      <td>20.14.74.110</td>\n",
       "      <td>Спирт этиловый ректификованный из пищевого сыр...</td>\n",
       "      <td>60.0</td>\n",
       "      <td>89.0</td>\n",
       "      <td>29.0</td>\n",
       "      <td>2139.0</td>\n",
       "    </tr>\n",
       "    <tr>\n",
       "      <th>317</th>\n",
       "      <td>4538362000</td>\n",
       "      <td>10.51.40.500</td>\n",
       "      <td>Сыры твердые, сыры в порошке, сыры голубые и с...</td>\n",
       "      <td>346.0</td>\n",
       "      <td>581.0</td>\n",
       "      <td>235.0</td>\n",
       "      <td>402.0</td>\n",
       "    </tr>\n",
       "    <tr>\n",
       "      <th>318</th>\n",
       "      <td>4538362000</td>\n",
       "      <td>10.99.03</td>\n",
       "      <td>Цельномолочная продукция (в пересчете на молок...</td>\n",
       "      <td>21.0</td>\n",
       "      <td>37.0</td>\n",
       "      <td>16.0</td>\n",
       "      <td>879.0</td>\n",
       "    </tr>\n",
       "    <tr>\n",
       "      <th>319</th>\n",
       "      <td>4538362000</td>\n",
       "      <td>10.51.30</td>\n",
       "      <td>Масло сливочное и пасты молочные, т</td>\n",
       "      <td>16.0</td>\n",
       "      <td>47.0</td>\n",
       "      <td>31.0</td>\n",
       "      <td>388.0</td>\n",
       "    </tr>\n",
       "  </tbody>\n",
       "</table>\n",
       "<p>320 rows × 7 columns</p>\n",
       "</div>"
      ],
      "text/plain": [
       "             KOD      KOD_PROD  \\\n",
       "0    58087295000       29.10.4   \n",
       "1    58087295000       29.10.5   \n",
       "2    58087295000      28.92.29   \n",
       "3    58087295000  29.10.30.001   \n",
       "4    58087126000  28.92.27.200   \n",
       "..           ...           ...   \n",
       "315  55423494000      11.03.10   \n",
       "316  55423494000  20.14.74.110   \n",
       "317   4538362000  10.51.40.500   \n",
       "318   4538362000      10.99.03   \n",
       "319   4538362000      10.51.30   \n",
       "\n",
       "                                             NAME_PROD  \\\n",
       "0                            Автомобили грузовые, штук   \n",
       "1             Автомобили специального назначения, штук   \n",
       "2    Автомобили-самосвалы для эксплуатации в услови...   \n",
       "3                                       Автобусы, штук   \n",
       "4                Землевозы (самосвалы карьерные), штук   \n",
       "..                                                 ...   \n",
       "315  Напитки ферментированные прочие (сидр яблочный...   \n",
       "316  Спирт этиловый ректификованный из пищевого сыр...   \n",
       "317  Сыры твердые, сыры в порошке, сыры голубые и с...   \n",
       "318  Цельномолочная продукция (в пересчете на молок...   \n",
       "319                Масло сливочное и пасты молочные, т   \n",
       "\n",
       "     Запасы_нат предыдущий месяц  Запасы_нат отчетный месяц  \\\n",
       "0                         1099.0                     1140.0   \n",
       "1                           72.0                       65.0   \n",
       "2                           70.0                      129.0   \n",
       "3                           67.0                       76.0   \n",
       "4                           81.0                      102.0   \n",
       "..                           ...                        ...   \n",
       "315                         21.0                       24.0   \n",
       "316                         60.0                       89.0   \n",
       "317                        346.0                      581.0   \n",
       "318                         21.0                       37.0   \n",
       "319                         16.0                       47.0   \n",
       "\n",
       "     разница запасов_нат      g1  \n",
       "0                   41.0  5403.0  \n",
       "1                   -7.0  5453.0  \n",
       "2                   59.0  5098.0  \n",
       "3                    9.0  5380.0  \n",
       "4                   21.0  6239.0  \n",
       "..                   ...     ...  \n",
       "315                  3.0   958.0  \n",
       "316                 29.0  2139.0  \n",
       "317                235.0   402.0  \n",
       "318                 16.0   879.0  \n",
       "319                 31.0   388.0  \n",
       "\n",
       "[320 rows x 7 columns]"
      ]
     },
     "execution_count": 15,
     "metadata": {},
     "output_type": "execute_result"
    }
   ],
   "source": [
    "sp_nat"
   ]
  },
  {
   "cell_type": "code",
   "execution_count": 16,
   "id": "ef408fec",
   "metadata": {},
   "outputs": [],
   "source": [
    "# переименование столбцов стоим\n",
    "ok1 = ok1.rename(columns = {'C4':'Запасы предыдущий месяц', 'TEMP2':'соотн предыдущий месяц', 'C1':'KOD'})\n",
    "ok2 = ok2.rename(columns = {'C4':'Запасы отчетный месяц', 'TEMP2':'соотн отчетный месяц', 'C1':'KOD'})"
   ]
  },
  {
   "cell_type": "code",
   "execution_count": 17,
   "id": "a4620478",
   "metadata": {},
   "outputs": [],
   "source": [
    "#объединить стоим\n",
    "merge_i = pd.merge(i1, i2, how = 'left', on = ['KOD'])"
   ]
  },
  {
   "cell_type": "code",
   "execution_count": 18,
   "id": "72af99d9",
   "metadata": {},
   "outputs": [],
   "source": [
    "merge_i = pd.merge(merge_i, sp1, how = 'left', on = ['KOD'])"
   ]
  },
  {
   "cell_type": "code",
   "execution_count": 19,
   "id": "85fc8143",
   "metadata": {},
   "outputs": [],
   "source": [
    "merge_i = merge_i[[\"OKOGU_H\", \"KOD\", \"NAME\", \"Запасы отчетный месяц\", \"Запасы предыдущий месяц\",\"соотн отчетный месяц\",  \"соотн предыдущий месяц\"]]\n"
   ]
  },
  {
   "cell_type": "code",
   "execution_count": 20,
   "id": "d05dee91",
   "metadata": {},
   "outputs": [
    {
     "data": {
      "text/plain": [
       "OKOGU_H                     True\n",
       "KOD                         True\n",
       "NAME                        True\n",
       "Запасы отчетный месяц       True\n",
       "Запасы предыдущий месяц    False\n",
       "соотн отчетный месяц        True\n",
       "соотн предыдущий месяц     False\n",
       "dtype: bool"
      ]
     },
     "execution_count": 20,
     "metadata": {},
     "output_type": "execute_result"
    }
   ],
   "source": [
    "merge_i.isna().any()"
   ]
  },
  {
   "cell_type": "code",
   "execution_count": 21,
   "id": "1ea27553",
   "metadata": {},
   "outputs": [
    {
     "data": {
      "text/plain": [
       "OKOGU_H                    1465\n",
       "KOD                        1465\n",
       "NAME                       1465\n",
       "Запасы отчетный месяц      1465\n",
       "Запасы предыдущий месяц    1465\n",
       "соотн отчетный месяц       1465\n",
       "соотн предыдущий месяц     1465\n",
       "dtype: int64"
      ]
     },
     "execution_count": 21,
     "metadata": {},
     "output_type": "execute_result"
    }
   ],
   "source": [
    "merge_i.isna().count()"
   ]
  },
  {
   "cell_type": "code",
   "execution_count": 22,
   "id": "317b891e",
   "metadata": {},
   "outputs": [],
   "source": [
    "merg = merge_i.dropna()"
   ]
  },
  {
   "cell_type": "code",
   "execution_count": 23,
   "id": "a95bcc8c",
   "metadata": {},
   "outputs": [
    {
     "data": {
      "text/plain": [
       "OKOGU_H                    False\n",
       "KOD                        False\n",
       "NAME                       False\n",
       "Запасы отчетный месяц      False\n",
       "Запасы предыдущий месяц    False\n",
       "соотн отчетный месяц       False\n",
       "соотн предыдущий месяц     False\n",
       "dtype: bool"
      ]
     },
     "execution_count": 23,
     "metadata": {},
     "output_type": "execute_result"
    }
   ],
   "source": [
    "merg.isna().any()"
   ]
  },
  {
   "cell_type": "code",
   "execution_count": 24,
   "id": "39e4145f",
   "metadata": {},
   "outputs": [
    {
     "data": {
      "text/plain": [
       "OKOGU_H                    1393\n",
       "KOD                        1393\n",
       "NAME                       1393\n",
       "Запасы отчетный месяц      1393\n",
       "Запасы предыдущий месяц    1393\n",
       "соотн отчетный месяц       1393\n",
       "соотн предыдущий месяц     1393\n",
       "dtype: int64"
      ]
     },
     "execution_count": 24,
     "metadata": {},
     "output_type": "execute_result"
    }
   ],
   "source": [
    "merg.isna().count()"
   ]
  },
  {
   "cell_type": "code",
   "execution_count": 27,
   "id": "d5b28f35",
   "metadata": {},
   "outputs": [
    {
     "name": "stderr",
     "output_type": "stream",
     "text": [
      "C:\\Users\\Svetlana.Cherkas\\AppData\\Local\\Temp\\ipykernel_8868\\1734358583.py:2: SettingWithCopyWarning: \n",
      "A value is trying to be set on a copy of a slice from a DataFrame.\n",
      "Try using .loc[row_indexer,col_indexer] = value instead\n",
      "\n",
      "See the caveats in the documentation: https://pandas.pydata.org/pandas-docs/stable/user_guide/indexing.html#returning-a-view-versus-a-copy\n",
      "  merg['разница запасов'] = merg['Запасы отчетный месяц'] - merg['Запасы предыдущий месяц']\n"
     ]
    }
   ],
   "source": [
    "#довавляем новый столбец Разница запасов\n",
    "merg['разница запасов'] = merg['Запасы отчетный месяц'] - merg['Запасы предыдущий месяц']"
   ]
  },
  {
   "cell_type": "code",
   "execution_count": 28,
   "id": "2f523ea4",
   "metadata": {},
   "outputs": [],
   "source": [
    "merg = merg[merg['разница запасов'] > 300.0]"
   ]
  },
  {
   "cell_type": "code",
   "execution_count": 30,
   "id": "9beb608d",
   "metadata": {},
   "outputs": [
    {
     "name": "stderr",
     "output_type": "stream",
     "text": [
      "C:\\Users\\Svetlana.Cherkas\\AppData\\Local\\Temp\\ipykernel_8868\\319900045.py:2: SettingWithCopyWarning: \n",
      "A value is trying to be set on a copy of a slice from a DataFrame.\n",
      "Try using .loc[row_indexer,col_indexer] = value instead\n",
      "\n",
      "See the caveats in the documentation: https://pandas.pydata.org/pandas-docs/stable/user_guide/indexing.html#returning-a-view-versus-a-copy\n",
      "  merg['разница соотн'] = merg['соотн отчетный месяц'] - merg['соотн предыдущий месяц']\n"
     ]
    }
   ],
   "source": [
    "#довавляем новый столбец разница соотношений\n",
    "merg['разница соотн'] = merg['соотн отчетный месяц'] - merg['соотн предыдущий месяц']\n",
    "merg = merg[merg['разница соотн'] > 0.0]\n",
    "\n"
   ]
  },
  {
   "cell_type": "code",
   "execution_count": 31,
   "id": "1763674c",
   "metadata": {
    "scrolled": true
   },
   "outputs": [
    {
     "data": {
      "text/html": [
       "<div>\n",
       "<style scoped>\n",
       "    .dataframe tbody tr th:only-of-type {\n",
       "        vertical-align: middle;\n",
       "    }\n",
       "\n",
       "    .dataframe tbody tr th {\n",
       "        vertical-align: top;\n",
       "    }\n",
       "\n",
       "    .dataframe thead th {\n",
       "        text-align: right;\n",
       "    }\n",
       "</style>\n",
       "<table border=\"1\" class=\"dataframe\">\n",
       "  <thead>\n",
       "    <tr style=\"text-align: right;\">\n",
       "      <th></th>\n",
       "      <th>OKOGU_H</th>\n",
       "      <th>KOD</th>\n",
       "      <th>NAME</th>\n",
       "      <th>Запасы отчетный месяц</th>\n",
       "      <th>Запасы предыдущий месяц</th>\n",
       "      <th>соотн отчетный месяц</th>\n",
       "      <th>соотн предыдущий месяц</th>\n",
       "      <th>разница запасов</th>\n",
       "      <th>разница соотн</th>\n",
       "    </tr>\n",
       "  </thead>\n",
       "  <tbody>\n",
       "    <tr>\n",
       "      <th>10</th>\n",
       "      <td>33710.0</td>\n",
       "      <td>1.370123e+09</td>\n",
       "      <td>╨╙╧ \"╧╨╬╚╟┬╬─╤╥┬┼══╬┼ ╬┴┌┼─╚═┼═╚┼ \"┴┼╦╬╨╙╤═┼╘╥▄\"</td>\n",
       "      <td>10146.0</td>\n",
       "      <td>6703</td>\n",
       "      <td>5.8</td>\n",
       "      <td>3.1</td>\n",
       "      <td>3443.0</td>\n",
       "      <td>2.7</td>\n",
       "    </tr>\n",
       "    <tr>\n",
       "      <th>19</th>\n",
       "      <td>33150.0</td>\n",
       "      <td>1.959956e+09</td>\n",
       "      <td>╬└╬ \"┴┼╦╓┬┼╥╠┼╥\"</td>\n",
       "      <td>3861.0</td>\n",
       "      <td>3059</td>\n",
       "      <td>29.0</td>\n",
       "      <td>22.0</td>\n",
       "      <td>802.0</td>\n",
       "      <td>7.0</td>\n",
       "    </tr>\n",
       "    <tr>\n",
       "      <th>20</th>\n",
       "      <td>33710.0</td>\n",
       "      <td>2.033586e+09</td>\n",
       "      <td>╬└╬ \"╟└┬╬─ ├╬╨═╬├╬ ┬╬╤╩└\"</td>\n",
       "      <td>6324.0</td>\n",
       "      <td>3437</td>\n",
       "      <td>70.7</td>\n",
       "      <td>40.9</td>\n",
       "      <td>2887.0</td>\n",
       "      <td>29.8</td>\n",
       "    </tr>\n",
       "    <tr>\n",
       "      <th>25</th>\n",
       "      <td>33710.0</td>\n",
       "      <td>2.040563e+09</td>\n",
       "      <td>╬└╬ \"╤┬┼╥╦╬├╬╨╤╩╒╚╠┬╬╦╬╩═╬\"</td>\n",
       "      <td>39647.0</td>\n",
       "      <td>37853</td>\n",
       "      <td>103.5</td>\n",
       "      <td>98.5</td>\n",
       "      <td>1794.0</td>\n",
       "      <td>5.0</td>\n",
       "    </tr>\n",
       "    <tr>\n",
       "      <th>26</th>\n",
       "      <td>33710.0</td>\n",
       "      <td>2.040797e+09</td>\n",
       "      <td>╬└╬ \"╠╬├╚╦┼┬╒╚╠┬╬╦╬╩═╬\"</td>\n",
       "      <td>37590.0</td>\n",
       "      <td>31336</td>\n",
       "      <td>54.0</td>\n",
       "      <td>45.0</td>\n",
       "      <td>6254.0</td>\n",
       "      <td>9.0</td>\n",
       "    </tr>\n",
       "  </tbody>\n",
       "</table>\n",
       "</div>"
      ],
      "text/plain": [
       "    OKOGU_H           KOD                                              NAME  \\\n",
       "10  33710.0  1.370123e+09  ╨╙╧ \"╧╨╬╚╟┬╬─╤╥┬┼══╬┼ ╬┴┌┼─╚═┼═╚┼ \"┴┼╦╬╨╙╤═┼╘╥▄\"   \n",
       "19  33150.0  1.959956e+09                                  ╬└╬ \"┴┼╦╓┬┼╥╠┼╥\"   \n",
       "20  33710.0  2.033586e+09                         ╬└╬ \"╟└┬╬─ ├╬╨═╬├╬ ┬╬╤╩└\"   \n",
       "25  33710.0  2.040563e+09                       ╬└╬ \"╤┬┼╥╦╬├╬╨╤╩╒╚╠┬╬╦╬╩═╬\"   \n",
       "26  33710.0  2.040797e+09                           ╬└╬ \"╠╬├╚╦┼┬╒╚╠┬╬╦╬╩═╬\"   \n",
       "\n",
       "    Запасы отчетный месяц  Запасы предыдущий месяц  соотн отчетный месяц  \\\n",
       "10                10146.0                     6703                   5.8   \n",
       "19                 3861.0                     3059                  29.0   \n",
       "20                 6324.0                     3437                  70.7   \n",
       "25                39647.0                    37853                 103.5   \n",
       "26                37590.0                    31336                  54.0   \n",
       "\n",
       "    соотн предыдущий месяц  разница запасов  разница соотн  \n",
       "10                     3.1           3443.0            2.7  \n",
       "19                    22.0            802.0            7.0  \n",
       "20                    40.9           2887.0           29.8  \n",
       "25                    98.5           1794.0            5.0  \n",
       "26                    45.0           6254.0            9.0  "
      ]
     },
     "execution_count": 31,
     "metadata": {},
     "output_type": "execute_result"
    }
   ],
   "source": [
    "merg.head()\n"
   ]
  },
  {
   "cell_type": "code",
   "execution_count": 32,
   "id": "d42c88d3",
   "metadata": {},
   "outputs": [],
   "source": [
    "m2 = merg[(merg['OKOGU_H'] == 33150)|(merg['OKOGU_H'] == 33020)|(merg['OKOGU_H'] == 33510)|(merg['OKOGU_H'] == 33050)|(merg['OKOGU_H'] == 33720)|(merg['OKOGU_H'] == 33730)|(merg['OKOGU_H'] == 33710)|(merg['OKOGU_H'] == 33700)|(merg['OKOGU_H'] == 331710)|(merg['OKOGU_H'] == 62012)|(merg['OKOGU_H'] == 62021)]"
   ]
  },
  {
   "cell_type": "code",
   "execution_count": 34,
   "id": "4c86f59a",
   "metadata": {},
   "outputs": [],
   "source": [
    "m2 = pd.merge(m2, sps, how = 'left', on = ['OKOGU_H'])"
   ]
  },
  {
   "cell_type": "code",
   "execution_count": 36,
   "id": "fde1153b",
   "metadata": {},
   "outputs": [],
   "source": [
    "m2 = m2[[\"KNAME_H\",\"OKOGU_H\",  \"NAME\", \"Запасы отчетный месяц\", \"Запасы предыдущий месяц\",\"соотн отчетный месяц\",  \"соотн предыдущий месяц\", \"разница запасов\", \"разница соотн\", \"KOD\"]]"
   ]
  },
  {
   "cell_type": "code",
   "execution_count": 71,
   "id": "60f5c034",
   "metadata": {
    "scrolled": true
   },
   "outputs": [],
   "source": [
    "m2 = m2.sort_values(['OKOGU_H', 'разница запасов'], ascending = [True, False])"
   ]
  },
  {
   "cell_type": "code",
   "execution_count": 73,
   "id": "da8e0ee3",
   "metadata": {},
   "outputs": [],
   "source": [
    "m3 = m2.groupby(['OKOGU_H']).head(10)\n"
   ]
  },
  {
   "cell_type": "code",
   "execution_count": 87,
   "id": "42147e67",
   "metadata": {},
   "outputs": [],
   "source": [
    "s2 = pd.merge(m3, sp_nat, how = 'left', on = ['KOD'])"
   ]
  },
  {
   "cell_type": "code",
   "execution_count": 89,
   "id": "5408228f",
   "metadata": {},
   "outputs": [],
   "source": [
    "s2.to_excel(\"3.xlsx\")"
   ]
  },
  {
   "cell_type": "code",
   "execution_count": 111,
   "id": "1596209b",
   "metadata": {},
   "outputs": [],
   "source": [
    "#ОКОГУ\n",
    "ok3 = pd.merge(ok1, ok2, how = 'left', on = ['KOD'])"
   ]
  },
  {
   "cell_type": "code",
   "execution_count": 112,
   "id": "90bf65d4",
   "metadata": {},
   "outputs": [],
   "source": [
    "ok3 = ok3.rename(columns = {'KOD':'OKOGU_H'})"
   ]
  },
  {
   "cell_type": "code",
   "execution_count": 113,
   "id": "502726e2",
   "metadata": {},
   "outputs": [],
   "source": [
    "#довавляем новый столбец разница запасов\n",
    "ok3['разница запасов'] = (ok3['Запасы отчетный месяц'] - ok3['Запасы предыдущий месяц'])/1000"
   ]
  },
  {
   "cell_type": "code",
   "execution_count": 114,
   "id": "513dcbf1",
   "metadata": {},
   "outputs": [],
   "source": [
    "#довавляем новый столбец разница соотношений\n",
    "ok3['разница соотн'] = ok3['соотн отчетный месяц'] - ok3['соотн предыдущий месяц']"
   ]
  },
  {
   "cell_type": "code",
   "execution_count": 115,
   "id": "4babfbea",
   "metadata": {},
   "outputs": [],
   "source": [
    "# задаем  следующий порядок следования столбцов \n",
    "ok3 = ok3[[\"OKOGU_H\", \"Запасы предыдущий месяц\", \"Запасы отчетный месяц\",  \"разница запасов\", \"соотн предыдущий месяц\", \"соотн отчетный месяц\", \"разница соотн\"]]"
   ]
  },
  {
   "cell_type": "code",
   "execution_count": 116,
   "id": "bc59fa76",
   "metadata": {},
   "outputs": [],
   "source": [
    "ok3['Запасы отчетный месяц'] = ok3['Запасы отчетный месяц']/1000\n",
    "ok3['Запасы предыдущий месяц'] = ok3['Запасы предыдущий месяц']/1000"
   ]
  },
  {
   "cell_type": "code",
   "execution_count": 118,
   "id": "2db80f5e",
   "metadata": {},
   "outputs": [],
   "source": [
    "# задаем  следующий порядок следования столбцов \n",
    "ok33 = ok3[[\"OKOGU_H\", \"Запасы предыдущий месяц\", \"Запасы отчетный месяц\",  \"разница запасов\"]]"
   ]
  },
  {
   "cell_type": "code",
   "execution_count": 120,
   "id": "0c39e4ac",
   "metadata": {},
   "outputs": [
    {
     "name": "stderr",
     "output_type": "stream",
     "text": [
      "C:\\Users\\Svetlana.Cherkas\\AppData\\Local\\Temp\\ipykernel_8868\\3133381688.py:2: SettingWithCopyWarning: \n",
      "A value is trying to be set on a copy of a slice from a DataFrame.\n",
      "Try using .loc[row_indexer,col_indexer] = value instead\n",
      "\n",
      "See the caveats in the documentation: https://pandas.pydata.org/pandas-docs/stable/user_guide/indexing.html#returning-a-view-versus-a-copy\n",
      "  ok33['g1'] = 3\n"
     ]
    }
   ],
   "source": [
    "# добавляем новый столбец \n",
    "ok33['g1'] = 3"
   ]
  },
  {
   "cell_type": "code",
   "execution_count": 125,
   "id": "a3ce064c",
   "metadata": {},
   "outputs": [],
   "source": [
    "# переименование столбцов \n",
    "ok33 = ok33.rename(columns = {'Запасы предыдущий месяц':'1', 'Запасы отчетный месяц':'2', 'разница запасов':'3'})"
   ]
  },
  {
   "cell_type": "code",
   "execution_count": 127,
   "id": "73b0ba3a",
   "metadata": {},
   "outputs": [],
   "source": [
    "# добавляем новый столбец \n",
    "ok33['NAME'] = 1"
   ]
  },
  {
   "cell_type": "code",
   "execution_count": 131,
   "id": "db4e0c38",
   "metadata": {},
   "outputs": [
    {
     "name": "stderr",
     "output_type": "stream",
     "text": [
      "C:\\Users\\Svetlana.Cherkas\\AppData\\Local\\Temp\\ipykernel_8868\\3489894561.py:4: SettingWithCopyWarning: \n",
      "A value is trying to be set on a copy of a slice from a DataFrame.\n",
      "Try using .loc[row_indexer,col_indexer] = value instead\n",
      "\n",
      "See the caveats in the documentation: https://pandas.pydata.org/pandas-docs/stable/user_guide/indexing.html#returning-a-view-versus-a-copy\n",
      "  ok34['g1'] = 4\n"
     ]
    }
   ],
   "source": [
    "# задаем  следующий порядок следования столбцов \n",
    "ok34 = ok3[[\"OKOGU_H\", \"соотн предыдущий месяц\", \"соотн отчетный месяц\",  \"разница соотн\"]]\n",
    "# добавляем новый столбец \n",
    "ok34['g1'] = 4\n",
    "# переименование столбцов \n",
    "ok34 = ok34.rename(columns = {'соотн предыдущий месяц':'1', 'соотн отчетный месяц':'2', 'разница соотн':'3'})\n",
    "# добавляем новый столбец \n",
    "ok34['NAME'] = 1"
   ]
  },
  {
   "cell_type": "code",
   "execution_count": null,
   "id": "86695240",
   "metadata": {},
   "outputs": [],
   "source": []
  },
  {
   "cell_type": "code",
   "execution_count": null,
   "id": "1e98428c",
   "metadata": {},
   "outputs": [],
   "source": []
  },
  {
   "cell_type": "code",
   "execution_count": 143,
   "id": "3895a463",
   "metadata": {},
   "outputs": [],
   "source": [
    "# !!! ИТОГ ПО ОКОГУ\n",
    "ok35 = pd.concat([ok34, ok33])\n",
    "# добавляем новый столбец \n",
    "ok35['KOD'] = 0\n",
    "ok35['NAIMEN'] = 0\n",
    "ok35 = pd.merge(ok35, sps, how = 'right', on = ['OKOGU_H'])\n",
    "ok35 = ok35[[\"KNAME_H\", \"OKOGU_H\", \"NAME\", \"1\", \"2\", \"3\", \"g1\", \"KOD\", \"NAIMEN\"]]"
   ]
  },
  {
   "cell_type": "code",
   "execution_count": 194,
   "id": "d155e4d2",
   "metadata": {},
   "outputs": [],
   "source": [
    "ok35 =ok35.sort_values(['OKOGU_H', 'g1'], ascending = [True, True])"
   ]
  },
  {
   "cell_type": "code",
   "execution_count": 195,
   "id": "a9e771fa",
   "metadata": {},
   "outputs": [],
   "source": [
    "m33 = s2[[\"KNAME_H\", \"OKOGU_H\", \"NAME\", \"Запасы предыдущий месяц\", \"Запасы отчетный месяц\",  \"разница запасов\", \"KOD\"]]\n"
   ]
  },
  {
   "cell_type": "code",
   "execution_count": 196,
   "id": "a886fdf8",
   "metadata": {},
   "outputs": [],
   "source": [
    "m33 = m33.drop_duplicates(keep='first')"
   ]
  },
  {
   "cell_type": "code",
   "execution_count": 197,
   "id": "00bd2576",
   "metadata": {},
   "outputs": [],
   "source": [
    "# добавляем новый столбец \n",
    "m33['g1'] = 1"
   ]
  },
  {
   "cell_type": "code",
   "execution_count": 201,
   "id": "8879c026",
   "metadata": {},
   "outputs": [],
   "source": [
    "m33 = m33.rename(columns = {'Запасы предыдущий месяц':'1', 'Запасы отчетный месяц':'2', 'разница запасов':'3'})\n"
   ]
  },
  {
   "cell_type": "code",
   "execution_count": 204,
   "id": "29ceb467",
   "metadata": {},
   "outputs": [],
   "source": [
    "# задаем  следующий порядок следования столбцов merge2\n",
    "m34 = s2[[\"KNAME_H\", \"OKOGU_H\", \"NAME\", \"соотн предыдущий месяц\", \"соотн отчетный месяц\", \"разница соотн\", \"KOD\"]]\n",
    "m34 = m34.drop_duplicates(keep='first')\n",
    "# добавляем новый столбец \n",
    "m34['g1'] = 2\n",
    "m34 = m34.rename(columns = {'соотн предыдущий месяц':'1', 'соотн отчетный месяц':'2', 'разница соотн':'3'})\n"
   ]
  },
  {
   "cell_type": "code",
   "execution_count": 223,
   "id": "aa0f5560",
   "metadata": {},
   "outputs": [],
   "source": [
    "#подключаем натуру\n",
    "# задаем  следующий порядок следования столбцов \n",
    "m35 = s2[[\"KNAME_H\", \"OKOGU_H\", \"NAME\", \"Запасы_нат предыдущий месяц\", \"Запасы_нат отчетный месяц\", \"разница запасов_нат\", \"g1\", \"KOD\"]]\n",
    "m35 = pd.merge(m35, pok1, how = 'left', on = ['g1'])\n",
    "m35 = m35.rename(columns = {'Запасы_нат предыдущий месяц':'1', 'Запасы_нат отчетный месяц':'2', 'разница запасов_нат':'3'})\n",
    "# удалить определ столбец\n",
    "m35 = m35.drop(columns=['KOD_PROD'], axis = 1)"
   ]
  },
  {
   "cell_type": "code",
   "execution_count": 236,
   "id": "fa0c1367",
   "metadata": {},
   "outputs": [],
   "source": [
    "# создание итоговой таблицы\n",
    "b1 = pd.concat([m34, m33, m35])"
   ]
  },
  {
   "cell_type": "code",
   "execution_count": 246,
   "id": "49b54c02",
   "metadata": {},
   "outputs": [],
   "source": [
    "b1 = b1.sort_values(['OKOGU_H', '3', 'g1'], ascending = [True, False, True])"
   ]
  },
  {
   "cell_type": "code",
   "execution_count": 264,
   "id": "470639a2",
   "metadata": {},
   "outputs": [],
   "source": [
    "# создание итоговой таблицы\n",
    "q11 = pd.concat([b1, ok35])"
   ]
  },
  {
   "cell_type": "code",
   "execution_count": 265,
   "id": "b1bfb1e7",
   "metadata": {},
   "outputs": [],
   "source": [
    "# переименование столбцов \n",
    "q1 = q11.rename(columns = {'1':'Запасы предыдущий месяц', '2':'Запасы отчетный месяц', '3':'Прирост(+), снижение (-)'})"
   ]
  },
  {
   "cell_type": "code",
   "execution_count": 266,
   "id": "1a48c41a",
   "metadata": {},
   "outputs": [],
   "source": [
    "q1 = pd.merge(q1, pok1, how = 'left', on = ['g1'])"
   ]
  },
  {
   "cell_type": "code",
   "execution_count": 267,
   "id": "e6f6c4bf",
   "metadata": {},
   "outputs": [],
   "source": [
    "q1 = q1.sort_values(['OKOGU_H', 'Прирост(+), снижение (-)', 'g1'], ascending = [True, False, True])"
   ]
  },
  {
   "cell_type": "code",
   "execution_count": 283,
   "id": "27f918b7",
   "metadata": {
    "scrolled": true
   },
   "outputs": [
    {
     "data": {
      "text/html": [
       "<div>\n",
       "<style scoped>\n",
       "    .dataframe tbody tr th:only-of-type {\n",
       "        vertical-align: middle;\n",
       "    }\n",
       "\n",
       "    .dataframe tbody tr th {\n",
       "        vertical-align: top;\n",
       "    }\n",
       "\n",
       "    .dataframe thead th {\n",
       "        text-align: right;\n",
       "    }\n",
       "</style>\n",
       "<table border=\"1\" class=\"dataframe\">\n",
       "  <thead>\n",
       "    <tr style=\"text-align: right;\">\n",
       "      <th></th>\n",
       "      <th>KNAME_H</th>\n",
       "      <th>OKOGU_H</th>\n",
       "      <th>NAME</th>\n",
       "      <th>Запасы предыдущий месяц</th>\n",
       "      <th>Запасы отчетный месяц</th>\n",
       "      <th>Прирост(+), снижение (-)</th>\n",
       "      <th>NAIMEN</th>\n",
       "      <th>g1</th>\n",
       "    </tr>\n",
       "  </thead>\n",
       "  <tbody>\n",
       "    <tr>\n",
       "      <th>282</th>\n",
       "      <td>╤шёЄхьр ╠шэёхы№їючяЁюфр</td>\n",
       "      <td>90.0</td>\n",
       "      <td>1</td>\n",
       "      <td>627.983</td>\n",
       "      <td>817.910</td>\n",
       "      <td>189.927</td>\n",
       "      <td>в фактических ценах, млн. рублей</td>\n",
       "      <td>3.0</td>\n",
       "    </tr>\n",
       "    <tr>\n",
       "      <th>283</th>\n",
       "      <td>╤шёЄхьр ╠шэёхы№їючяЁюфр</td>\n",
       "      <td>90.0</td>\n",
       "      <td>1</td>\n",
       "      <td>43.600</td>\n",
       "      <td>53.400</td>\n",
       "      <td>9.800</td>\n",
       "      <td>в процентах к среднемесячному объему производства</td>\n",
       "      <td>4.0</td>\n",
       "    </tr>\n",
       "    <tr>\n",
       "      <th>0</th>\n",
       "      <td>╠шэёЄЁющрЁїшЄхъЄєЁ√</td>\n",
       "      <td>33020.0</td>\n",
       "      <td>╬└╬ \"├╬╠┼╦▄╤╥┼╩╦╬\"</td>\n",
       "      <td>56805.000</td>\n",
       "      <td>63096.000</td>\n",
       "      <td>6291.000</td>\n",
       "      <td>в фактических ценах, тыс. рублей</td>\n",
       "      <td>1.0</td>\n",
       "    </tr>\n",
       "    <tr>\n",
       "      <th>1</th>\n",
       "      <td>╠шэёЄЁющрЁїшЄхъЄєЁ√</td>\n",
       "      <td>33020.0</td>\n",
       "      <td>╬└╬ \"├╨╬─═┼═╤╩╚╔ ╤╥┼╩╦╬╟└┬╬─\"</td>\n",
       "      <td>8097.000</td>\n",
       "      <td>13048.000</td>\n",
       "      <td>4951.000</td>\n",
       "      <td>Бутылки, банки, флаконы и тара из стекла проча...</td>\n",
       "      <td>2785.0</td>\n",
       "    </tr>\n",
       "    <tr>\n",
       "      <th>2</th>\n",
       "      <td>╠шэёЄЁющрЁїшЄхъЄєЁ√</td>\n",
       "      <td>33020.0</td>\n",
       "      <td>╬└╬ \"┴┼╨┼╟└╤╥╨╬╔╠└╥┼╨╚└╦█\"</td>\n",
       "      <td>27683.000</td>\n",
       "      <td>32184.000</td>\n",
       "      <td>4501.000</td>\n",
       "      <td>в фактических ценах, тыс. рублей</td>\n",
       "      <td>1.0</td>\n",
       "    </tr>\n",
       "    <tr>\n",
       "      <th>...</th>\n",
       "      <td>...</td>\n",
       "      <td>...</td>\n",
       "      <td>...</td>\n",
       "      <td>...</td>\n",
       "      <td>...</td>\n",
       "      <td>...</td>\n",
       "      <td>...</td>\n",
       "      <td>...</td>\n",
       "    </tr>\n",
       "    <tr>\n",
       "      <th>281</th>\n",
       "      <td>╩юьшЄхЄ√ яю ёхы№ёъюьє їюч щёЄтє ш яЁюфютюы№ёЄт...</td>\n",
       "      <td>62012.0</td>\n",
       "      <td>╬└╬ \"─▀╥╦╬┬╤╩╚╔ ╦╚╩┼╨╬-┬╬─╬╫═█╔ ╟└┬╬─ \"└╦├╬═▄\"</td>\n",
       "      <td>21.000</td>\n",
       "      <td>24.000</td>\n",
       "      <td>3.000</td>\n",
       "      <td>Напитки ферментированные прочие (сидр яблочный...</td>\n",
       "      <td>958.0</td>\n",
       "    </tr>\n",
       "    <tr>\n",
       "      <th>304</th>\n",
       "      <td>╙яЁртыхэш  (юЄфхы√) яю ёхы№ёъюьє їюч щёЄтє ш я...</td>\n",
       "      <td>62021.0</td>\n",
       "      <td>1</td>\n",
       "      <td>2.910</td>\n",
       "      <td>3.048</td>\n",
       "      <td>0.138</td>\n",
       "      <td>в фактических ценах, млн. рублей</td>\n",
       "      <td>3.0</td>\n",
       "    </tr>\n",
       "    <tr>\n",
       "      <th>305</th>\n",
       "      <td>╙яЁртыхэш  (юЄфхы√) яю ёхы№ёъюьє їюч щёЄтє ш я...</td>\n",
       "      <td>62021.0</td>\n",
       "      <td>1</td>\n",
       "      <td>32.400</td>\n",
       "      <td>31.400</td>\n",
       "      <td>-1.000</td>\n",
       "      <td>в процентах к среднемесячному объему производства</td>\n",
       "      <td>4.0</td>\n",
       "    </tr>\n",
       "    <tr>\n",
       "      <th>306</th>\n",
       "      <td>▐Ёшфшўхёъшх ышЎр схч тхфюьёЄтхээющ яюфўшэхээюёЄш</td>\n",
       "      <td>86090.0</td>\n",
       "      <td>1</td>\n",
       "      <td>2014.248</td>\n",
       "      <td>2162.058</td>\n",
       "      <td>147.810</td>\n",
       "      <td>в фактических ценах, млн. рублей</td>\n",
       "      <td>3.0</td>\n",
       "    </tr>\n",
       "    <tr>\n",
       "      <th>307</th>\n",
       "      <td>▐Ёшфшўхёъшх ышЎр схч тхфюьёЄтхээющ яюфўшэхээюёЄш</td>\n",
       "      <td>86090.0</td>\n",
       "      <td>1</td>\n",
       "      <td>79.700</td>\n",
       "      <td>95.800</td>\n",
       "      <td>16.100</td>\n",
       "      <td>в процентах к среднемесячному объему производства</td>\n",
       "      <td>4.0</td>\n",
       "    </tr>\n",
       "  </tbody>\n",
       "</table>\n",
       "<p>308 rows × 8 columns</p>\n",
       "</div>"
      ],
      "text/plain": [
       "                                               KNAME_H  OKOGU_H  \\\n",
       "282                            ╤шёЄхьр ╠шэёхы№їючяЁюфр     90.0   \n",
       "283                            ╤шёЄхьр ╠шэёхы№їючяЁюфр     90.0   \n",
       "0                                  ╠шэёЄЁющрЁїшЄхъЄєЁ√  33020.0   \n",
       "1                                  ╠шэёЄЁющрЁїшЄхъЄєЁ√  33020.0   \n",
       "2                                  ╠шэёЄЁющрЁїшЄхъЄєЁ√  33020.0   \n",
       "..                                                 ...      ...   \n",
       "281  ╩юьшЄхЄ√ яю ёхы№ёъюьє їюч щёЄтє ш яЁюфютюы№ёЄт...  62012.0   \n",
       "304  ╙яЁртыхэш  (юЄфхы√) яю ёхы№ёъюьє їюч щёЄтє ш я...  62021.0   \n",
       "305  ╙яЁртыхэш  (юЄфхы√) яю ёхы№ёъюьє їюч щёЄтє ш я...  62021.0   \n",
       "306   ▐Ёшфшўхёъшх ышЎр схч тхфюьёЄтхээющ яюфўшэхээюёЄш  86090.0   \n",
       "307   ▐Ёшфшўхёъшх ышЎр схч тхфюьёЄтхээющ яюфўшэхээюёЄш  86090.0   \n",
       "\n",
       "                                               NAME  Запасы предыдущий месяц  \\\n",
       "282                                               1                  627.983   \n",
       "283                                               1                   43.600   \n",
       "0                                ╬└╬ \"├╬╠┼╦▄╤╥┼╩╦╬\"                56805.000   \n",
       "1                     ╬└╬ \"├╨╬─═┼═╤╩╚╔ ╤╥┼╩╦╬╟└┬╬─\"                 8097.000   \n",
       "2                        ╬└╬ \"┴┼╨┼╟└╤╥╨╬╔╠└╥┼╨╚└╦█\"                27683.000   \n",
       "..                                              ...                      ...   \n",
       "281  ╬└╬ \"─▀╥╦╬┬╤╩╚╔ ╦╚╩┼╨╬-┬╬─╬╫═█╔ ╟└┬╬─ \"└╦├╬═▄\"                   21.000   \n",
       "304                                               1                    2.910   \n",
       "305                                               1                   32.400   \n",
       "306                                               1                 2014.248   \n",
       "307                                               1                   79.700   \n",
       "\n",
       "     Запасы отчетный месяц  Прирост(+), снижение (-)  \\\n",
       "282                817.910                   189.927   \n",
       "283                 53.400                     9.800   \n",
       "0                63096.000                  6291.000   \n",
       "1                13048.000                  4951.000   \n",
       "2                32184.000                  4501.000   \n",
       "..                     ...                       ...   \n",
       "281                 24.000                     3.000   \n",
       "304                  3.048                     0.138   \n",
       "305                 31.400                    -1.000   \n",
       "306               2162.058                   147.810   \n",
       "307                 95.800                    16.100   \n",
       "\n",
       "                                                NAIMEN      g1  \n",
       "282                   в фактических ценах, млн. рублей     3.0  \n",
       "283  в процентах к среднемесячному объему производства     4.0  \n",
       "0                     в фактических ценах, тыс. рублей     1.0  \n",
       "1    Бутылки, банки, флаконы и тара из стекла проча...  2785.0  \n",
       "2                     в фактических ценах, тыс. рублей     1.0  \n",
       "..                                                 ...     ...  \n",
       "281  Напитки ферментированные прочие (сидр яблочный...   958.0  \n",
       "304                   в фактических ценах, млн. рублей     3.0  \n",
       "305  в процентах к среднемесячному объему производства     4.0  \n",
       "306                   в фактических ценах, млн. рублей     3.0  \n",
       "307  в процентах к среднемесячному объему производства     4.0  \n",
       "\n",
       "[308 rows x 8 columns]"
      ]
     },
     "execution_count": 283,
     "metadata": {},
     "output_type": "execute_result"
    }
   ],
   "source": [
    "q1"
   ]
  },
  {
   "cell_type": "code",
   "execution_count": 282,
   "id": "512b64f9",
   "metadata": {},
   "outputs": [],
   "source": [
    "q1 = q1.rename(columns = {'NAIMEN_y':'NAIMEN'})\n",
    "q1 = q1[[\"KNAME_H\", \"OKOGU_H\", \"NAME\", \"Запасы предыдущий месяц\", \"Запасы отчетный месяц\",  \"Прирост(+), снижение (-)\", \"NAIMEN\", \"g1\"]]"
   ]
  },
  {
   "cell_type": "code",
   "execution_count": 285,
   "id": "3d2e36d7",
   "metadata": {},
   "outputs": [
    {
     "name": "stdout",
     "output_type": "stream",
     "text": [
      "<class 'pandas.core.frame.DataFrame'>\n",
      "Int64Index: 308 entries, 282 to 307\n",
      "Data columns (total 8 columns):\n",
      " #   Column                    Non-Null Count  Dtype  \n",
      "---  ------                    --------------  -----  \n",
      " 0   KNAME_H                   308 non-null    object \n",
      " 1   OKOGU_H                   308 non-null    float64\n",
      " 2   NAME                      308 non-null    object \n",
      " 3   Запасы предыдущий месяц   307 non-null    float64\n",
      " 4   Запасы отчетный месяц     308 non-null    float64\n",
      " 5   Прирост(+), снижение (-)  307 non-null    float64\n",
      " 6   NAIMEN                    308 non-null    object \n",
      " 7   g1                        308 non-null    float64\n",
      "dtypes: float64(5), object(3)\n",
      "memory usage: 21.7+ KB\n"
     ]
    }
   ],
   "source": [
    "q1.info()"
   ]
  },
  {
   "cell_type": "code",
   "execution_count": null,
   "id": "e7589047",
   "metadata": {},
   "outputs": [],
   "source": [
    "li = [] # бкогда будем пробегаться будет возникать список из двух элементов\n",
    "# первый элемент печатать а второй записываем в список li страны\n",
    "\n",
    "for i in it:\n",
    "    print (i[0])\n",
    "    li.append(i[1])"
   ]
  },
  {
   "cell_type": "code",
   "execution_count": 286,
   "id": "25a19f27",
   "metadata": {},
   "outputs": [
    {
     "ename": "TypeError",
     "evalue": "cannot convert the series to <class 'int'>",
     "output_type": "error",
     "traceback": [
      "\u001b[1;31m---------------------------------------------------------------------------\u001b[0m",
      "\u001b[1;31mTypeError\u001b[0m                                 Traceback (most recent call last)",
      "Input \u001b[1;32mIn [286]\u001b[0m, in \u001b[0;36m<cell line: 2>\u001b[1;34m()\u001b[0m\n\u001b[0;32m      1\u001b[0m li \u001b[38;5;241m=\u001b[39m []\n\u001b[1;32m----> 2\u001b[0m \u001b[38;5;28;01mfor\u001b[39;00m i \u001b[38;5;129;01min\u001b[39;00m \u001b[38;5;28;43mint\u001b[39;49m\u001b[43m(\u001b[49m\u001b[43mq1\u001b[49m\u001b[43m[\u001b[49m\u001b[38;5;124;43m'\u001b[39;49m\u001b[38;5;124;43mOKOGU_H\u001b[39;49m\u001b[38;5;124;43m'\u001b[39;49m\u001b[43m]\u001b[49m\u001b[43m)\u001b[49m:\n\u001b[0;32m      3\u001b[0m     \u001b[38;5;28mprint\u001b[39m (i[\u001b[38;5;241m0\u001b[39m])\n\u001b[0;32m      4\u001b[0m     li\u001b[38;5;241m.\u001b[39mappend(i[\u001b[38;5;241m1\u001b[39m])\n",
      "File \u001b[1;32mC:\\ProgramData\\Anaconda3\\lib\\site-packages\\pandas\\core\\series.py:191\u001b[0m, in \u001b[0;36m_coerce_method.<locals>.wrapper\u001b[1;34m(self)\u001b[0m\n\u001b[0;32m    189\u001b[0m \u001b[38;5;28;01mif\u001b[39;00m \u001b[38;5;28mlen\u001b[39m(\u001b[38;5;28mself\u001b[39m) \u001b[38;5;241m==\u001b[39m \u001b[38;5;241m1\u001b[39m:\n\u001b[0;32m    190\u001b[0m     \u001b[38;5;28;01mreturn\u001b[39;00m converter(\u001b[38;5;28mself\u001b[39m\u001b[38;5;241m.\u001b[39miloc[\u001b[38;5;241m0\u001b[39m])\n\u001b[1;32m--> 191\u001b[0m \u001b[38;5;28;01mraise\u001b[39;00m \u001b[38;5;167;01mTypeError\u001b[39;00m(\u001b[38;5;124mf\u001b[39m\u001b[38;5;124m\"\u001b[39m\u001b[38;5;124mcannot convert the series to \u001b[39m\u001b[38;5;132;01m{\u001b[39;00mconverter\u001b[38;5;132;01m}\u001b[39;00m\u001b[38;5;124m\"\u001b[39m)\n",
      "\u001b[1;31mTypeError\u001b[0m: cannot convert the series to <class 'int'>"
     ]
    }
   ],
   "source": [
    "li = []\n",
    "for i in int(q1['OKOGU_H']):\n",
    "    print (i[0])\n",
    "    li.append(i[1])"
   ]
  },
  {
   "cell_type": "code",
   "execution_count": null,
   "id": "57f769ca",
   "metadata": {},
   "outputs": [],
   "source": [
    "for (i in ministries1) {\n",
    "  writeData(result11, \"sheet1\", i, 1, pos_to_write1+1)\n",
    "  pos_to_write1 <- pos_to_write1 + 2\n",
    "  w_d <- arrange(qq1[qq1$KNAME_H == i & qq1$NAME == '1', c(7, 4:6, 8)], g1)\n",
    "  writeData(result11, \"sheet1\", w_d[,1:4], 1, pos_to_write1, colNames = FALSE)\n",
    "  pos_to_write1 <- pos_to_write1 + 2\n",
    "  fabrics<-unique(qq1$NAME[qq1$KNAME_H == i])\n",
    "  fabrics <- fabrics[fabrics != \"1\"]\n",
    "  #if (length(fabrics) > 7) fabrics <- fabrics[1:7]\n",
    "  for (j in fabrics) {\n",
    "    writeData(result11, \"sheet1\", j, 1, pos_to_write1)\n",
    "    pos_to_write1 <- pos_to_write1 + 1\n",
    "    w_d <- arrange(qq1[qq1$KNAME_H == i & qq1$NAME == j, c(7, 4:6, 8)], g1)\n",
    "    writeData(result11, \"sheet1\", w_d[,1:4], 1, pos_to_write1, colNames = FALSE)\n",
    "    pos_to_write1 <- pos_to_write1 + nrow(qq1[qq1$KNAME_H == i & qq1$NAME == j, 1])\n",
    "  }\n",
    "}\n",
    "saveWorkbook(result11, \"result11.xlsx\", overwrite = TRUE)\n"
   ]
  },
  {
   "cell_type": "code",
   "execution_count": null,
   "id": "b3ac5d6c",
   "metadata": {},
   "outputs": [],
   "source": []
  },
  {
   "cell_type": "code",
   "execution_count": null,
   "id": "e7d30ab5",
   "metadata": {},
   "outputs": [],
   "source": [
    "# Сводная таблица\n",
    "pt = q1.pivot_table(values = 'Balance', index = 'Geography', columns = ['Gender', 'Exited'], aggfunc = 'mean')"
   ]
  },
  {
   "cell_type": "code",
   "execution_count": null,
   "id": "c13ae47a",
   "metadata": {},
   "outputs": [],
   "source": []
  },
  {
   "cell_type": "code",
   "execution_count": null,
   "id": "e0354d62",
   "metadata": {},
   "outputs": [],
   "source": []
  },
  {
   "cell_type": "code",
   "execution_count": null,
   "id": "f0a279f6",
   "metadata": {},
   "outputs": [],
   "source": []
  },
  {
   "cell_type": "code",
   "execution_count": null,
   "id": "40ad29a0",
   "metadata": {},
   "outputs": [],
   "source": []
  },
  {
   "cell_type": "code",
   "execution_count": null,
   "id": "e2dc8498",
   "metadata": {},
   "outputs": [],
   "source": []
  },
  {
   "cell_type": "code",
   "execution_count": 41,
   "id": "e325f916",
   "metadata": {},
   "outputs": [
    {
     "ename": "IntCastingNaNError",
     "evalue": "Cannot convert non-finite values (NA or inf) to integer",
     "output_type": "error",
     "traceback": [
      "\u001b[1;31m---------------------------------------------------------------------------\u001b[0m",
      "\u001b[1;31mIntCastingNaNError\u001b[0m                        Traceback (most recent call last)",
      "Input \u001b[1;32mIn [41]\u001b[0m, in \u001b[0;36m<cell line: 1>\u001b[1;34m()\u001b[0m\n\u001b[1;32m----> 1\u001b[0m \u001b[43mmerge_i\u001b[49m\u001b[43m[\u001b[49m\u001b[38;5;124;43m'\u001b[39;49m\u001b[38;5;124;43mKOD\u001b[39;49m\u001b[38;5;124;43m'\u001b[39;49m\u001b[43m]\u001b[49m\u001b[38;5;241;43m.\u001b[39;49m\u001b[43mastype\u001b[49m\u001b[43m(\u001b[49m\u001b[38;5;124;43m'\u001b[39;49m\u001b[38;5;124;43mint64\u001b[39;49m\u001b[38;5;124;43m'\u001b[39;49m\u001b[43m)\u001b[49m\n",
      "File \u001b[1;32mC:\\ProgramData\\Anaconda3\\lib\\site-packages\\pandas\\core\\generic.py:5912\u001b[0m, in \u001b[0;36mNDFrame.astype\u001b[1;34m(self, dtype, copy, errors)\u001b[0m\n\u001b[0;32m   5905\u001b[0m     results \u001b[38;5;241m=\u001b[39m [\n\u001b[0;32m   5906\u001b[0m         \u001b[38;5;28mself\u001b[39m\u001b[38;5;241m.\u001b[39miloc[:, i]\u001b[38;5;241m.\u001b[39mastype(dtype, copy\u001b[38;5;241m=\u001b[39mcopy)\n\u001b[0;32m   5907\u001b[0m         \u001b[38;5;28;01mfor\u001b[39;00m i \u001b[38;5;129;01min\u001b[39;00m \u001b[38;5;28mrange\u001b[39m(\u001b[38;5;28mlen\u001b[39m(\u001b[38;5;28mself\u001b[39m\u001b[38;5;241m.\u001b[39mcolumns))\n\u001b[0;32m   5908\u001b[0m     ]\n\u001b[0;32m   5910\u001b[0m \u001b[38;5;28;01melse\u001b[39;00m:\n\u001b[0;32m   5911\u001b[0m     \u001b[38;5;66;03m# else, only a single dtype is given\u001b[39;00m\n\u001b[1;32m-> 5912\u001b[0m     new_data \u001b[38;5;241m=\u001b[39m \u001b[38;5;28;43mself\u001b[39;49m\u001b[38;5;241;43m.\u001b[39;49m\u001b[43m_mgr\u001b[49m\u001b[38;5;241;43m.\u001b[39;49m\u001b[43mastype\u001b[49m\u001b[43m(\u001b[49m\u001b[43mdtype\u001b[49m\u001b[38;5;241;43m=\u001b[39;49m\u001b[43mdtype\u001b[49m\u001b[43m,\u001b[49m\u001b[43m \u001b[49m\u001b[43mcopy\u001b[49m\u001b[38;5;241;43m=\u001b[39;49m\u001b[43mcopy\u001b[49m\u001b[43m,\u001b[49m\u001b[43m \u001b[49m\u001b[43merrors\u001b[49m\u001b[38;5;241;43m=\u001b[39;49m\u001b[43merrors\u001b[49m\u001b[43m)\u001b[49m\n\u001b[0;32m   5913\u001b[0m     \u001b[38;5;28;01mreturn\u001b[39;00m \u001b[38;5;28mself\u001b[39m\u001b[38;5;241m.\u001b[39m_constructor(new_data)\u001b[38;5;241m.\u001b[39m__finalize__(\u001b[38;5;28mself\u001b[39m, method\u001b[38;5;241m=\u001b[39m\u001b[38;5;124m\"\u001b[39m\u001b[38;5;124mastype\u001b[39m\u001b[38;5;124m\"\u001b[39m)\n\u001b[0;32m   5915\u001b[0m \u001b[38;5;66;03m# GH 33113: handle empty frame or series\u001b[39;00m\n",
      "File \u001b[1;32mC:\\ProgramData\\Anaconda3\\lib\\site-packages\\pandas\\core\\internals\\managers.py:419\u001b[0m, in \u001b[0;36mBaseBlockManager.astype\u001b[1;34m(self, dtype, copy, errors)\u001b[0m\n\u001b[0;32m    418\u001b[0m \u001b[38;5;28;01mdef\u001b[39;00m \u001b[38;5;21mastype\u001b[39m(\u001b[38;5;28mself\u001b[39m: T, dtype, copy: \u001b[38;5;28mbool\u001b[39m \u001b[38;5;241m=\u001b[39m \u001b[38;5;28;01mFalse\u001b[39;00m, errors: \u001b[38;5;28mstr\u001b[39m \u001b[38;5;241m=\u001b[39m \u001b[38;5;124m\"\u001b[39m\u001b[38;5;124mraise\u001b[39m\u001b[38;5;124m\"\u001b[39m) \u001b[38;5;241m-\u001b[39m\u001b[38;5;241m>\u001b[39m T:\n\u001b[1;32m--> 419\u001b[0m     \u001b[38;5;28;01mreturn\u001b[39;00m \u001b[38;5;28;43mself\u001b[39;49m\u001b[38;5;241;43m.\u001b[39;49m\u001b[43mapply\u001b[49m\u001b[43m(\u001b[49m\u001b[38;5;124;43m\"\u001b[39;49m\u001b[38;5;124;43mastype\u001b[39;49m\u001b[38;5;124;43m\"\u001b[39;49m\u001b[43m,\u001b[49m\u001b[43m \u001b[49m\u001b[43mdtype\u001b[49m\u001b[38;5;241;43m=\u001b[39;49m\u001b[43mdtype\u001b[49m\u001b[43m,\u001b[49m\u001b[43m \u001b[49m\u001b[43mcopy\u001b[49m\u001b[38;5;241;43m=\u001b[39;49m\u001b[43mcopy\u001b[49m\u001b[43m,\u001b[49m\u001b[43m \u001b[49m\u001b[43merrors\u001b[49m\u001b[38;5;241;43m=\u001b[39;49m\u001b[43merrors\u001b[49m\u001b[43m)\u001b[49m\n",
      "File \u001b[1;32mC:\\ProgramData\\Anaconda3\\lib\\site-packages\\pandas\\core\\internals\\managers.py:304\u001b[0m, in \u001b[0;36mBaseBlockManager.apply\u001b[1;34m(self, f, align_keys, ignore_failures, **kwargs)\u001b[0m\n\u001b[0;32m    302\u001b[0m         applied \u001b[38;5;241m=\u001b[39m b\u001b[38;5;241m.\u001b[39mapply(f, \u001b[38;5;241m*\u001b[39m\u001b[38;5;241m*\u001b[39mkwargs)\n\u001b[0;32m    303\u001b[0m     \u001b[38;5;28;01melse\u001b[39;00m:\n\u001b[1;32m--> 304\u001b[0m         applied \u001b[38;5;241m=\u001b[39m \u001b[38;5;28mgetattr\u001b[39m(b, f)(\u001b[38;5;241m*\u001b[39m\u001b[38;5;241m*\u001b[39mkwargs)\n\u001b[0;32m    305\u001b[0m \u001b[38;5;28;01mexcept\u001b[39;00m (\u001b[38;5;167;01mTypeError\u001b[39;00m, \u001b[38;5;167;01mNotImplementedError\u001b[39;00m):\n\u001b[0;32m    306\u001b[0m     \u001b[38;5;28;01mif\u001b[39;00m \u001b[38;5;129;01mnot\u001b[39;00m ignore_failures:\n",
      "File \u001b[1;32mC:\\ProgramData\\Anaconda3\\lib\\site-packages\\pandas\\core\\internals\\blocks.py:580\u001b[0m, in \u001b[0;36mBlock.astype\u001b[1;34m(self, dtype, copy, errors)\u001b[0m\n\u001b[0;32m    562\u001b[0m \u001b[38;5;124;03m\"\"\"\u001b[39;00m\n\u001b[0;32m    563\u001b[0m \u001b[38;5;124;03mCoerce to the new dtype.\u001b[39;00m\n\u001b[0;32m    564\u001b[0m \n\u001b[1;32m   (...)\u001b[0m\n\u001b[0;32m    576\u001b[0m \u001b[38;5;124;03mBlock\u001b[39;00m\n\u001b[0;32m    577\u001b[0m \u001b[38;5;124;03m\"\"\"\u001b[39;00m\n\u001b[0;32m    578\u001b[0m values \u001b[38;5;241m=\u001b[39m \u001b[38;5;28mself\u001b[39m\u001b[38;5;241m.\u001b[39mvalues\n\u001b[1;32m--> 580\u001b[0m new_values \u001b[38;5;241m=\u001b[39m \u001b[43mastype_array_safe\u001b[49m\u001b[43m(\u001b[49m\u001b[43mvalues\u001b[49m\u001b[43m,\u001b[49m\u001b[43m \u001b[49m\u001b[43mdtype\u001b[49m\u001b[43m,\u001b[49m\u001b[43m \u001b[49m\u001b[43mcopy\u001b[49m\u001b[38;5;241;43m=\u001b[39;49m\u001b[43mcopy\u001b[49m\u001b[43m,\u001b[49m\u001b[43m \u001b[49m\u001b[43merrors\u001b[49m\u001b[38;5;241;43m=\u001b[39;49m\u001b[43merrors\u001b[49m\u001b[43m)\u001b[49m\n\u001b[0;32m    582\u001b[0m new_values \u001b[38;5;241m=\u001b[39m maybe_coerce_values(new_values)\n\u001b[0;32m    583\u001b[0m newb \u001b[38;5;241m=\u001b[39m \u001b[38;5;28mself\u001b[39m\u001b[38;5;241m.\u001b[39mmake_block(new_values)\n",
      "File \u001b[1;32mC:\\ProgramData\\Anaconda3\\lib\\site-packages\\pandas\\core\\dtypes\\cast.py:1292\u001b[0m, in \u001b[0;36mastype_array_safe\u001b[1;34m(values, dtype, copy, errors)\u001b[0m\n\u001b[0;32m   1289\u001b[0m     dtype \u001b[38;5;241m=\u001b[39m dtype\u001b[38;5;241m.\u001b[39mnumpy_dtype\n\u001b[0;32m   1291\u001b[0m \u001b[38;5;28;01mtry\u001b[39;00m:\n\u001b[1;32m-> 1292\u001b[0m     new_values \u001b[38;5;241m=\u001b[39m \u001b[43mastype_array\u001b[49m\u001b[43m(\u001b[49m\u001b[43mvalues\u001b[49m\u001b[43m,\u001b[49m\u001b[43m \u001b[49m\u001b[43mdtype\u001b[49m\u001b[43m,\u001b[49m\u001b[43m \u001b[49m\u001b[43mcopy\u001b[49m\u001b[38;5;241;43m=\u001b[39;49m\u001b[43mcopy\u001b[49m\u001b[43m)\u001b[49m\n\u001b[0;32m   1293\u001b[0m \u001b[38;5;28;01mexcept\u001b[39;00m (\u001b[38;5;167;01mValueError\u001b[39;00m, \u001b[38;5;167;01mTypeError\u001b[39;00m):\n\u001b[0;32m   1294\u001b[0m     \u001b[38;5;66;03m# e.g. astype_nansafe can fail on object-dtype of strings\u001b[39;00m\n\u001b[0;32m   1295\u001b[0m     \u001b[38;5;66;03m#  trying to convert to float\u001b[39;00m\n\u001b[0;32m   1296\u001b[0m     \u001b[38;5;28;01mif\u001b[39;00m errors \u001b[38;5;241m==\u001b[39m \u001b[38;5;124m\"\u001b[39m\u001b[38;5;124mignore\u001b[39m\u001b[38;5;124m\"\u001b[39m:\n",
      "File \u001b[1;32mC:\\ProgramData\\Anaconda3\\lib\\site-packages\\pandas\\core\\dtypes\\cast.py:1237\u001b[0m, in \u001b[0;36mastype_array\u001b[1;34m(values, dtype, copy)\u001b[0m\n\u001b[0;32m   1234\u001b[0m     values \u001b[38;5;241m=\u001b[39m values\u001b[38;5;241m.\u001b[39mastype(dtype, copy\u001b[38;5;241m=\u001b[39mcopy)\n\u001b[0;32m   1236\u001b[0m \u001b[38;5;28;01melse\u001b[39;00m:\n\u001b[1;32m-> 1237\u001b[0m     values \u001b[38;5;241m=\u001b[39m \u001b[43mastype_nansafe\u001b[49m\u001b[43m(\u001b[49m\u001b[43mvalues\u001b[49m\u001b[43m,\u001b[49m\u001b[43m \u001b[49m\u001b[43mdtype\u001b[49m\u001b[43m,\u001b[49m\u001b[43m \u001b[49m\u001b[43mcopy\u001b[49m\u001b[38;5;241;43m=\u001b[39;49m\u001b[43mcopy\u001b[49m\u001b[43m)\u001b[49m\n\u001b[0;32m   1239\u001b[0m \u001b[38;5;66;03m# in pandas we don't store numpy str dtypes, so convert to object\u001b[39;00m\n\u001b[0;32m   1240\u001b[0m \u001b[38;5;28;01mif\u001b[39;00m \u001b[38;5;28misinstance\u001b[39m(dtype, np\u001b[38;5;241m.\u001b[39mdtype) \u001b[38;5;129;01mand\u001b[39;00m \u001b[38;5;28missubclass\u001b[39m(values\u001b[38;5;241m.\u001b[39mdtype\u001b[38;5;241m.\u001b[39mtype, \u001b[38;5;28mstr\u001b[39m):\n",
      "File \u001b[1;32mC:\\ProgramData\\Anaconda3\\lib\\site-packages\\pandas\\core\\dtypes\\cast.py:1148\u001b[0m, in \u001b[0;36mastype_nansafe\u001b[1;34m(arr, dtype, copy, skipna)\u001b[0m\n\u001b[0;32m   1145\u001b[0m     \u001b[38;5;28;01mraise\u001b[39;00m \u001b[38;5;167;01mTypeError\u001b[39;00m(\u001b[38;5;124mf\u001b[39m\u001b[38;5;124m\"\u001b[39m\u001b[38;5;124mcannot astype a timedelta from [\u001b[39m\u001b[38;5;132;01m{\u001b[39;00marr\u001b[38;5;241m.\u001b[39mdtype\u001b[38;5;132;01m}\u001b[39;00m\u001b[38;5;124m] to [\u001b[39m\u001b[38;5;132;01m{\u001b[39;00mdtype\u001b[38;5;132;01m}\u001b[39;00m\u001b[38;5;124m]\u001b[39m\u001b[38;5;124m\"\u001b[39m)\n\u001b[0;32m   1147\u001b[0m \u001b[38;5;28;01melif\u001b[39;00m np\u001b[38;5;241m.\u001b[39missubdtype(arr\u001b[38;5;241m.\u001b[39mdtype, np\u001b[38;5;241m.\u001b[39mfloating) \u001b[38;5;129;01mand\u001b[39;00m np\u001b[38;5;241m.\u001b[39missubdtype(dtype, np\u001b[38;5;241m.\u001b[39minteger):\n\u001b[1;32m-> 1148\u001b[0m     \u001b[38;5;28;01mreturn\u001b[39;00m \u001b[43mastype_float_to_int_nansafe\u001b[49m\u001b[43m(\u001b[49m\u001b[43marr\u001b[49m\u001b[43m,\u001b[49m\u001b[43m \u001b[49m\u001b[43mdtype\u001b[49m\u001b[43m,\u001b[49m\u001b[43m \u001b[49m\u001b[43mcopy\u001b[49m\u001b[43m)\u001b[49m\n\u001b[0;32m   1150\u001b[0m \u001b[38;5;28;01melif\u001b[39;00m is_object_dtype(arr\u001b[38;5;241m.\u001b[39mdtype):\n\u001b[0;32m   1151\u001b[0m \n\u001b[0;32m   1152\u001b[0m     \u001b[38;5;66;03m# work around NumPy brokenness, #1987\u001b[39;00m\n\u001b[0;32m   1153\u001b[0m     \u001b[38;5;28;01mif\u001b[39;00m np\u001b[38;5;241m.\u001b[39missubdtype(dtype\u001b[38;5;241m.\u001b[39mtype, np\u001b[38;5;241m.\u001b[39minteger):\n",
      "File \u001b[1;32mC:\\ProgramData\\Anaconda3\\lib\\site-packages\\pandas\\core\\dtypes\\cast.py:1193\u001b[0m, in \u001b[0;36mastype_float_to_int_nansafe\u001b[1;34m(values, dtype, copy)\u001b[0m\n\u001b[0;32m   1189\u001b[0m \u001b[38;5;124;03m\"\"\"\u001b[39;00m\n\u001b[0;32m   1190\u001b[0m \u001b[38;5;124;03mastype with a check preventing converting NaN to an meaningless integer value.\u001b[39;00m\n\u001b[0;32m   1191\u001b[0m \u001b[38;5;124;03m\"\"\"\u001b[39;00m\n\u001b[0;32m   1192\u001b[0m \u001b[38;5;28;01mif\u001b[39;00m \u001b[38;5;129;01mnot\u001b[39;00m np\u001b[38;5;241m.\u001b[39misfinite(values)\u001b[38;5;241m.\u001b[39mall():\n\u001b[1;32m-> 1193\u001b[0m     \u001b[38;5;28;01mraise\u001b[39;00m IntCastingNaNError(\n\u001b[0;32m   1194\u001b[0m         \u001b[38;5;124m\"\u001b[39m\u001b[38;5;124mCannot convert non-finite values (NA or inf) to integer\u001b[39m\u001b[38;5;124m\"\u001b[39m\n\u001b[0;32m   1195\u001b[0m     )\n\u001b[0;32m   1196\u001b[0m \u001b[38;5;28;01mreturn\u001b[39;00m values\u001b[38;5;241m.\u001b[39mastype(dtype, copy\u001b[38;5;241m=\u001b[39mcopy)\n",
      "\u001b[1;31mIntCastingNaNError\u001b[0m: Cannot convert non-finite values (NA or inf) to integer"
     ]
    }
   ],
   "source": [
    "merge_i['KOD'].astype('int64')# не сработало\n"
   ]
  },
  {
   "cell_type": "code",
   "execution_count": null,
   "id": "afe68e27",
   "metadata": {},
   "outputs": [],
   "source": []
  },
  {
   "cell_type": "code",
   "execution_count": null,
   "id": "f26908fc",
   "metadata": {},
   "outputs": [],
   "source": []
  },
  {
   "cell_type": "code",
   "execution_count": 169,
   "id": "36e12126",
   "metadata": {},
   "outputs": [],
   "source": [
    "sp = sp.loc[sp['P7'] == 1]"
   ]
  },
  {
   "cell_type": "code",
   "execution_count": 171,
   "id": "b40461c5",
   "metadata": {},
   "outputs": [],
   "source": [
    "#merge['Объем предыдущий месяц'].round(0)"
   ]
  },
  {
   "cell_type": "code",
   "execution_count": 172,
   "id": "17f0c715",
   "metadata": {},
   "outputs": [],
   "source": [
    "#merge['Объем предыдущий месяц'] = merge['Объем предыдущий месяц'] // 10"
   ]
  },
  {
   "cell_type": "code",
   "execution_count": 197,
   "id": "01e797de",
   "metadata": {},
   "outputs": [],
   "source": [
    "merg = merge.dropna()\n"
   ]
  },
  {
   "cell_type": "code",
   "execution_count": null,
   "id": "21f77732",
   "metadata": {},
   "outputs": [],
   "source": []
  },
  {
   "cell_type": "code",
   "execution_count": 118,
   "id": "6fa99816",
   "metadata": {},
   "outputs": [],
   "source": [
    "#itog_zap['ср.мес V_предыдущ месяц'] = itog_zap['ср.мес V_предыдущ месяц'].astype('int')\n",
    "#itog_zap.dtypes"
   ]
  }
 ],
 "metadata": {
  "kernelspec": {
   "display_name": "Python 3 (ipykernel)",
   "language": "python",
   "name": "python3"
  },
  "language_info": {
   "codemirror_mode": {
    "name": "ipython",
    "version": 3
   },
   "file_extension": ".py",
   "mimetype": "text/x-python",
   "name": "python",
   "nbconvert_exporter": "python",
   "pygments_lexer": "ipython3",
   "version": "3.9.13"
  }
 },
 "nbformat": 4,
 "nbformat_minor": 5
}
