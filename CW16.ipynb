{
 "cells": [
  {
   "cell_type": "code",
   "execution_count": 1,
   "id": "b292e5df",
   "metadata": {},
   "outputs": [],
   "source": [
    "import pandas as pd\n",
    "from matplotlib import pyplot as plt\n",
    "import seaborn as sns\n",
    "%matplotlib inline\n",
    "import numpy as np\n",
    "from sklearn.metrics import confusion_matrix, precision_score, \\\n",
    "              recall_score, f1_score, precision_recall_curve, roc_curve, roc_auc_score, \\\n",
    "              auc, mean_squared_error, accuracy_score\n",
    "import math"
   ]
  },
  {
   "cell_type": "code",
   "execution_count": null,
   "id": "df5c0eee",
   "metadata": {},
   "outputs": [],
   "source": []
  },
  {
   "cell_type": "code",
   "execution_count": null,
   "id": "79c695f1",
   "metadata": {},
   "outputs": [],
   "source": []
  },
  {
   "cell_type": "markdown",
   "id": "f1d785b8",
   "metadata": {},
   "source": [
    "# Многоклассовая классификация"
   ]
  },
  {
   "cell_type": "code",
   "execution_count": 2,
   "id": "8122c12a",
   "metadata": {},
   "outputs": [],
   "source": [
    "from sklearn.datasets import load_iris"
   ]
  },
  {
   "cell_type": "code",
   "execution_count": 3,
   "id": "0fd065e4",
   "metadata": {},
   "outputs": [],
   "source": [
    "iris = load_iris()"
   ]
  },
  {
   "cell_type": "code",
   "execution_count": 4,
   "id": "16dda337",
   "metadata": {},
   "outputs": [
    {
     "data": {
      "text/plain": [
       "dict_keys(['data', 'target', 'frame', 'target_names', 'DESCR', 'feature_names', 'filename', 'data_module'])"
      ]
     },
     "execution_count": 4,
     "metadata": {},
     "output_type": "execute_result"
    }
   ],
   "source": [
    "iris.keys()"
   ]
  },
  {
   "cell_type": "code",
   "execution_count": 5,
   "id": "80d7bc34",
   "metadata": {},
   "outputs": [],
   "source": [
    "X = iris.data\n",
    "Y = iris.target"
   ]
  },
  {
   "cell_type": "code",
   "execution_count": null,
   "id": "67232188",
   "metadata": {},
   "outputs": [],
   "source": []
  },
  {
   "cell_type": "code",
   "execution_count": 8,
   "id": "bf446dfe",
   "metadata": {},
   "outputs": [],
   "source": [
    "from sklearn.linear_model import SGDClassifier\n",
    "SGDclf = SGDClassifier (random_state = 42)"
   ]
  },
  {
   "cell_type": "code",
   "execution_count": 9,
   "id": "55f8b2a9",
   "metadata": {},
   "outputs": [
    {
     "data": {
      "text/plain": [
       "SGDClassifier(random_state=42)"
      ]
     },
     "execution_count": 9,
     "metadata": {},
     "output_type": "execute_result"
    }
   ],
   "source": [
    "SGDclf.fit(X,Y)"
   ]
  },
  {
   "cell_type": "code",
   "execution_count": 10,
   "id": "bafb761d",
   "metadata": {},
   "outputs": [
    {
     "data": {
      "text/plain": [
       "0.9333333333333333"
      ]
     },
     "execution_count": 10,
     "metadata": {},
     "output_type": "execute_result"
    }
   ],
   "source": [
    "SGDclf.score(X,Y)"
   ]
  },
  {
   "cell_type": "code",
   "execution_count": 11,
   "id": "cc94f8f4",
   "metadata": {},
   "outputs": [],
   "source": [
    "pred = SGDclf.predict(X)"
   ]
  },
  {
   "cell_type": "code",
   "execution_count": 12,
   "id": "b2fdadb7",
   "metadata": {},
   "outputs": [
    {
     "data": {
      "text/plain": [
       "array([[50,  0,  0],\n",
       "       [ 2, 46,  2],\n",
       "       [ 0,  6, 44]], dtype=int64)"
      ]
     },
     "execution_count": 12,
     "metadata": {},
     "output_type": "execute_result"
    }
   ],
   "source": [
    "cm = confusion_matrix(Y, pred)# метрики\n",
    "cm"
   ]
  },
  {
   "cell_type": "code",
   "execution_count": 15,
   "id": "64acb254",
   "metadata": {},
   "outputs": [
    {
     "data": {
      "image/png": "[encoded data removed]",
      "text/plain": [
       "<Figure size 640x480 with 2 Axes>"
      ]
     },
     "metadata": {},
     "output_type": "display_data"
    }
   ],
   "source": [
    "np.fill_diagonal(cm, 0)\n",
    "sns.heatmap(cm);"
   ]
  },
  {
   "cell_type": "code",
   "execution_count": 17,
   "id": "d3b3d06e",
   "metadata": {},
   "outputs": [
    {
     "data": {
      "text/plain": [
       "(0.9342251950947604, 0.9333333333333332, 0.9330065359477123)"
      ]
     },
     "execution_count": 17,
     "metadata": {},
     "output_type": "execute_result"
    }
   ],
   "source": [
    "# макро - считает метрики для каждой метки и берет среднее значение. \n",
    "precision_score(Y,pred, average = 'macro'), recall_score(Y,pred, average = 'macro'), f1_score(Y,pred, average = 'macro')\n",
    "# макро посчитает один по всем, в микро усреднение"
   ]
  },
  {
   "cell_type": "code",
   "execution_count": 18,
   "id": "6b2a32db",
   "metadata": {},
   "outputs": [],
   "source": [
    "cm[0,0] = cm[1,1] = cm[2,2] = 0 # подсветка ошибок"
   ]
  },
  {
   "cell_type": "markdown",
   "id": "1ee76929",
   "metadata": {},
   "source": [
    "### OvR"
   ]
  },
  {
   "cell_type": "code",
   "execution_count": 36,
   "id": "c974163d",
   "metadata": {},
   "outputs": [
    {
     "data": {
      "text/plain": [
       "array([[ -48.37069287,  -11.74964287, -212.39143969]])"
      ]
     },
     "execution_count": 36,
     "metadata": {},
     "output_type": "execute_result"
    }
   ],
   "source": [
    "SGDclf.decision_function([X[65]])"
   ]
  },
  {
   "cell_type": "code",
   "execution_count": 37,
   "id": "6db52ce5",
   "metadata": {},
   "outputs": [
    {
     "data": {
      "text/plain": [
       "array([1])"
      ]
     },
     "execution_count": 37,
     "metadata": {},
     "output_type": "execute_result"
    }
   ],
   "source": [
    "SGDclf.predict([X[65]])"
   ]
  },
  {
   "cell_type": "code",
   "execution_count": 38,
   "id": "b3d5576f",
   "metadata": {},
   "outputs": [
    {
     "data": {
      "text/plain": [
       "array([6.7, 3.1, 4.4, 1.4])"
      ]
     },
     "execution_count": 38,
     "metadata": {},
     "output_type": "execute_result"
    }
   ],
   "source": [
    "X[65]"
   ]
  },
  {
   "cell_type": "markdown",
   "id": "190aca18",
   "metadata": {},
   "source": [
    "### OvO"
   ]
  },
  {
   "cell_type": "code",
   "execution_count": 24,
   "id": "3663a966",
   "metadata": {},
   "outputs": [],
   "source": [
    "from sklearn.multiclass import OneVsOneClassifier "
   ]
  },
  {
   "cell_type": "code",
   "execution_count": 25,
   "id": "982e1e19",
   "metadata": {},
   "outputs": [
    {
     "data": {
      "text/plain": [
       "OneVsOneClassifier(estimator=SGDClassifier(random_state=42))"
      ]
     },
     "execution_count": 25,
     "metadata": {},
     "output_type": "execute_result"
    }
   ],
   "source": [
    "ovoSGD = OneVsOneClassifier(SGDClassifier(random_state = 42))\n",
    "ovoSGD.fit(X,Y)"
   ]
  },
  {
   "cell_type": "code",
   "execution_count": 30,
   "id": "3bb7886d",
   "metadata": {},
   "outputs": [
    {
     "data": {
      "text/plain": [
       "array([[-0.33041254,  2.3324053 ,  0.66802136]])"
      ]
     },
     "execution_count": 30,
     "metadata": {},
     "output_type": "execute_result"
    }
   ],
   "source": [
    "ovoSGD.decision_function([X[65]])"
   ]
  },
  {
   "cell_type": "code",
   "execution_count": 32,
   "id": "b977256e",
   "metadata": {},
   "outputs": [
    {
     "data": {
      "text/plain": [
       "array([1])"
      ]
     },
     "execution_count": 32,
     "metadata": {},
     "output_type": "execute_result"
    }
   ],
   "source": [
    "ovoSGD.predict([X[65]])"
   ]
  },
  {
   "cell_type": "code",
   "execution_count": 33,
   "id": "4d0aaa5f",
   "metadata": {},
   "outputs": [
    {
     "data": {
      "text/plain": [
       "(SGDClassifier(random_state=42),\n",
       " SGDClassifier(random_state=42),\n",
       " SGDClassifier(random_state=42))"
      ]
     },
     "execution_count": 33,
     "metadata": {},
     "output_type": "execute_result"
    }
   ],
   "source": [
    "ovoSGD.estimators_"
   ]
  },
  {
   "cell_type": "code",
   "execution_count": 34,
   "id": "91f55abb",
   "metadata": {},
   "outputs": [],
   "source": [
    "pred = ovoSGD.predict(X)"
   ]
  },
  {
   "cell_type": "code",
   "execution_count": 35,
   "id": "ec602417",
   "metadata": {},
   "outputs": [
    {
     "data": {
      "text/plain": [
       "(0.9871794871794872, 0.9866666666666667, 0.9866613311991462)"
      ]
     },
     "execution_count": 35,
     "metadata": {},
     "output_type": "execute_result"
    }
   ],
   "source": [
    "precision_score(Y,pred, average = 'macro'), recall_score(Y,pred, average = 'macro'), f1_score(Y,pred, average = 'macro') "
   ]
  },
  {
   "cell_type": "markdown",
   "id": "9b66f4a0",
   "metadata": {},
   "source": [
    "# Регрессия и регуляризация"
   ]
  },
  {
   "cell_type": "code",
   "execution_count": 61,
   "id": "70e9c439",
   "metadata": {},
   "outputs": [],
   "source": [
    "from sklearn.linear_model import SGDRegressor"
   ]
  },
  {
   "cell_type": "code",
   "execution_count": 66,
   "id": "c0178470",
   "metadata": {},
   "outputs": [],
   "source": [
    "# генерируем данные\n",
    "X = 2*np.linspace(0,2,100)\n",
    "y = 2.5+(3*X).reshape(-1,1) + 2.5*np.random.rand(100,1) # шум\n",
    "#y = 2.5+3*X[:,0]*X[:,0] + np.random.randn(100,1) # шум\n",
    "X_b = np.c_[np.ones((100,1)),X]  \n",
    "y = y.reshape(100)\n",
    "\n",
    "X1 = 2*np.linspace(0,2,30)\n",
    "y1 = 2.7+(3*X1).reshape(-1,1) + .5*np.random.randn(30,1) # шум\n",
    "#y = 2.5+3*X[:,0]*X[:,0] + np.random.randn(100,1) # шум\n",
    "y1 = y1.reshape(30)\n"
   ]
  },
  {
   "cell_type": "code",
   "execution_count": 80,
   "id": "94ba0c35",
   "metadata": {},
   "outputs": [],
   "source": [
    "X_train, X_test = X, X1 \n",
    "Y_train,  Y_test =  y, y1"
   ]
  },
  {
   "cell_type": "code",
   "execution_count": null,
   "id": "05599436",
   "metadata": {},
   "outputs": [],
   "source": []
  },
  {
   "cell_type": "code",
   "execution_count": 115,
   "id": "f3493f2a",
   "metadata": {},
   "outputs": [
    {
     "data": {
      "text/plain": [
       "(0.8899699212613087, 1.0631949943589958)"
      ]
     },
     "execution_count": 115,
     "metadata": {},
     "output_type": "execute_result"
    }
   ],
   "source": [
    "SGDR = SGDRegressor(penalty = 'l1', alpha = 1.5,)# l1_ratio = 0.8)\n",
    "\n",
    "SGDR.fit(X_train.reshape(-1,1), Y_train)\n",
    "\n",
    "preds = SGDR.predict(X_test.reshape(-1,1))\n",
    "\n",
    "mse = mean_squared_error(Y_test, preds)\n",
    "rmse_test = math.sqrt(mse)\n",
    "\n",
    "preds = SGDR.predict(X_train.reshape(-1,1))\n",
    "mse = mean_squared_error(Y_train, preds)\n",
    "rmse_train = math.sqrt(mse)\n",
    "\n",
    "rmse_train, rmse_test"
   ]
  },
  {
   "cell_type": "code",
   "execution_count": 116,
   "id": "3dcf819f",
   "metadata": {},
   "outputs": [
    {
     "data": {
      "text/plain": [
       "(array([2.73672016]), array([3.91157509]))"
      ]
     },
     "execution_count": 116,
     "metadata": {},
     "output_type": "execute_result"
    }
   ],
   "source": [
    "SGDR.coef_ , SGDR.intercept_"
   ]
  },
  {
   "cell_type": "code",
   "execution_count": 117,
   "id": "aef91034",
   "metadata": {},
   "outputs": [
    {
     "data": {
      "text/plain": [
       "[<matplotlib.lines.Line2D at 0x2c251a37ac0>]"
      ]
     },
     "execution_count": 117,
     "metadata": {},
     "output_type": "execute_result"
    },
    {
     "data": {
      "image/png": "[encoded data removed]",
      "text/plain": [
       "<Figure size 640x480 with 1 Axes>"
      ]
     },
     "metadata": {},
     "output_type": "display_data"
    }
   ],
   "source": [
    "plt.scatter(X,y)\n",
    "plt.scatter(X1,y1)\n",
    "plt.plot(X_test, SGDR.predict(X_test.reshape(-1,1)), color = 'red', linewidth = 3)"
   ]
  },
  {
   "cell_type": "code",
   "execution_count": 118,
   "id": "d39694e5",
   "metadata": {},
   "outputs": [],
   "source": [
    "#SGDR.coef_ , SGDR.intercept_"
   ]
  },
  {
   "cell_type": "markdown",
   "id": "4497e8d9",
   "metadata": {},
   "source": [
    "## Логистическая регрессия"
   ]
  },
  {
   "cell_type": "code",
   "execution_count": 121,
   "id": "07ed4c4e",
   "metadata": {},
   "outputs": [],
   "source": [
    "x = np.linspace(-7,7, 100)\n",
    "y = np.linspace(-2,2, 100)\n",
    "v = np.linspace(-2,2, 100)\n",
    "for i in range(100):\n",
    "    y[i] = 1/(1+math.exp(-x[i]))\n",
    "    v[i] = 0.5\n"
   ]
  },
  {
   "cell_type": "code",
   "execution_count": 122,
   "id": "0784ec2a",
   "metadata": {},
   "outputs": [
    {
     "data": {
      "text/plain": [
       "[<matplotlib.lines.Line2D at 0x2c252f35190>]"
      ]
     },
     "execution_count": 122,
     "metadata": {},
     "output_type": "execute_result"
    },
    {
     "data": {
      "image/png": "[encoded data removed]",
      "text/plain": [
       "<Figure size 640x480 with 1 Axes>"
      ]
     },
     "metadata": {},
     "output_type": "display_data"
    }
   ],
   "source": [
    "plt.plot(x,y)\n",
    "plt.plot(x,v)"
   ]
  },
  {
   "cell_type": "code",
   "execution_count": null,
   "id": "32bae840",
   "metadata": {},
   "outputs": [],
   "source": []
  },
  {
   "cell_type": "code",
   "execution_count": 123,
   "id": "fc349d89",
   "metadata": {},
   "outputs": [],
   "source": [
    "x = np.linspace(0.001, 1, 100)\n",
    "y = np.linspace(0.001, 1, 100)\n",
    "\n",
    "for i in range(100):\n",
    "    y[i] = - math.log(x[i])\n"
   ]
  },
  {
   "cell_type": "code",
   "execution_count": 124,
   "id": "62731f5e",
   "metadata": {},
   "outputs": [
    {
     "data": {
      "text/plain": [
       "[<matplotlib.lines.Line2D at 0x2c253115580>]"
      ]
     },
     "execution_count": 124,
     "metadata": {},
     "output_type": "execute_result"
    },
    {
     "data": {
      "image/png": "[encoded data removed]",
      "text/plain": [
       "<Figure size 640x480 with 1 Axes>"
      ]
     },
     "metadata": {},
     "output_type": "display_data"
    }
   ],
   "source": [
    "plt.plot(x,y)"
   ]
  },
  {
   "cell_type": "code",
   "execution_count": 139,
   "id": "8af8dd32",
   "metadata": {},
   "outputs": [],
   "source": [
    "X = iris['data'][:,3:]\n",
    "y = (iris['target'] == 2).astype(np.int32)"
   ]
  },
  {
   "cell_type": "code",
   "execution_count": null,
   "id": "34dec197",
   "metadata": {},
   "outputs": [],
   "source": []
  },
  {
   "cell_type": "code",
   "execution_count": 140,
   "id": "ce4ceb08",
   "metadata": {},
   "outputs": [],
   "source": [
    "from sklearn.linear_model import LogisticRegression \n",
    "logReg = LogisticRegression()"
   ]
  },
  {
   "cell_type": "code",
   "execution_count": 141,
   "id": "704a99f7",
   "metadata": {},
   "outputs": [
    {
     "data": {
      "text/plain": [
       "LogisticRegression()"
      ]
     },
     "execution_count": 141,
     "metadata": {},
     "output_type": "execute_result"
    }
   ],
   "source": [
    "logReg.fit(X,y)"
   ]
  },
  {
   "cell_type": "code",
   "execution_count": 145,
   "id": "493f1cc1",
   "metadata": {},
   "outputs": [
    {
     "data": {
      "text/plain": [
       "array([0])"
      ]
     },
     "execution_count": 145,
     "metadata": {},
     "output_type": "execute_result"
    }
   ],
   "source": [
    "logReg.predict([X[78]])"
   ]
  },
  {
   "cell_type": "code",
   "execution_count": 153,
   "id": "9ca63105",
   "metadata": {},
   "outputs": [
    {
     "data": {
      "text/plain": [
       "array([[0.66709636, 0.33290364]])"
      ]
     },
     "execution_count": 153,
     "metadata": {},
     "output_type": "execute_result"
    }
   ],
   "source": [
    "logReg.predict_proba([X[78]])"
   ]
  },
  {
   "cell_type": "code",
   "execution_count": 154,
   "id": "edb37da4",
   "metadata": {},
   "outputs": [
    {
     "data": {
      "text/plain": [
       "1.0"
      ]
     },
     "execution_count": 154,
     "metadata": {},
     "output_type": "execute_result"
    }
   ],
   "source": [
    "logReg.predict_proba([X[78]]).sum()"
   ]
  },
  {
   "cell_type": "code",
   "execution_count": null,
   "id": "506eca17",
   "metadata": {},
   "outputs": [],
   "source": []
  },
  {
   "cell_type": "code",
   "execution_count": null,
   "id": "83306367",
   "metadata": {},
   "outputs": [],
   "source": []
  },
  {
   "cell_type": "code",
   "execution_count": 155,
   "id": "e324f651",
   "metadata": {},
   "outputs": [
    {
     "data": {
      "text/plain": [
       "<matplotlib.legend.Legend at 0x2c25317fee0>"
      ]
     },
     "execution_count": 155,
     "metadata": {},
     "output_type": "execute_result"
    },
    {
     "data": {
      "image/png": "[encoded data removed]",
      "text/plain": [
       "<Figure size 640x480 with 1 Axes>"
      ]
     },
     "metadata": {},
     "output_type": "display_data"
    }
   ],
   "source": [
    "Xnew = np.linspace(0, 3, 1000).reshape(-1,1)\n",
    "y_proba = logReg.predict_proba(Xnew)\n",
    "plt.plot(Xnew, y_proba[:,1], 'g-', label = 'Ирис Вирнинский')\n",
    "plt.plot(Xnew, y_proba[:,0], 'b--', label = 'не Ирис Вирнинский');\n",
    "plt.legend()"
   ]
  },
  {
   "cell_type": "code",
   "execution_count": 156,
   "id": "f53f8a04",
   "metadata": {},
   "outputs": [],
   "source": [
    "# граница уверенных решений менее 1 и более 2,\n",
    "# внутри интервала классификатор менее уверен"
   ]
  },
  {
   "cell_type": "code",
   "execution_count": 159,
   "id": "8e353746",
   "metadata": {},
   "outputs": [
    {
     "data": {
      "text/plain": [
       "array([[0.66709636, 0.33290364],\n",
       "       [0.45722097, 0.54277903]])"
      ]
     },
     "execution_count": 159,
     "metadata": {},
     "output_type": "execute_result"
    }
   ],
   "source": [
    "logReg.predict_proba([[1.5],[1.7]])"
   ]
  },
  {
   "cell_type": "code",
   "execution_count": 158,
   "id": "3c19bb77",
   "metadata": {},
   "outputs": [
    {
     "data": {
      "text/plain": [
       "array([[9.99250016e-01, 7.49984089e-04],\n",
       "       [9.99240201e-01, 7.59799387e-04],\n",
       "       [9.99230257e-01, 7.69743043e-04],\n",
       "       ...,\n",
       "       [3.08374822e-03, 9.96916252e-01],\n",
       "       [3.04400296e-03, 9.96955997e-01],\n",
       "       [3.00476842e-03, 9.96995232e-01]])"
      ]
     },
     "execution_count": 158,
     "metadata": {},
     "output_type": "execute_result"
    }
   ],
   "source": [
    "y_proba"
   ]
  },
  {
   "cell_type": "code",
   "execution_count": null,
   "id": "41596d8a",
   "metadata": {},
   "outputs": [],
   "source": []
  },
  {
   "cell_type": "code",
   "execution_count": null,
   "id": "f0011bef",
   "metadata": {},
   "outputs": [],
   "source": []
  },
  {
   "cell_type": "code",
   "execution_count": null,
   "id": "5331b757",
   "metadata": {},
   "outputs": [],
   "source": []
  },
  {
   "cell_type": "code",
   "execution_count": null,
   "id": "38839227",
   "metadata": {},
   "outputs": [],
   "source": []
  },
  {
   "cell_type": "code",
   "execution_count": null,
   "id": "7cd06563",
   "metadata": {},
   "outputs": [],
   "source": []
  },
  {
   "cell_type": "code",
   "execution_count": null,
   "id": "c94e0839",
   "metadata": {},
   "outputs": [],
   "source": []
  }
 ],
 "metadata": {
  "kernelspec": {
   "display_name": "Python 3 (ipykernel)",
   "language": "python",
   "name": "python3"
  },
  "language_info": {
   "codemirror_mode": {
    "name": "ipython",
    "version": 3
   },
   "file_extension": ".py",
   "mimetype": "text/x-python",
   "name": "python",
   "nbconvert_exporter": "python",
   "pygments_lexer": "ipython3",
   "version": "3.9.13"
  }
 },
 "nbformat": 4,
 "nbformat_minor": 5
}
