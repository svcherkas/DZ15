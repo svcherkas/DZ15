{
 "cells": [
  {
   "cell_type": "code",
   "execution_count": 5,
   "metadata": {
    "id": "P1t1RQMq1UVw"
   },
   "outputs": [],
   "source": [
    "from sklearn.datasets import load_digits\n",
    "from sklearn.neural_network import MLPClassifier\n",
    "from sklearn.model_selection import train_test_split\n",
    "from sklearn.metrics import classification_report\n",
    "import pandas as pd\n",
    "from matplotlib import pyplot as plt\n",
    "import seaborn as sns\n",
    "%matplotlib inline\n",
    "import numpy as np\n",
    "import math"
   ]
  },
  {
   "cell_type": "markdown",
   "metadata": {},
   "source": [
    "**Многоклассовая классификация**\n",
    "1. Загрузите из sklearn датасет с цифрами (каждый элемент кодирует изображение цифры размером 8х8)\n",
    "2. Осмотрите данные и метки.\n",
    "3. попробуйте отобразить любое единичное изображение из набора с помощью matplotlib.\n",
    "4. Примените тетрадку с прошлого урока к загруженному датасету в части многоклассовой классификации.\n",
    "5. Рассмотрите матрицу неточностей, сделайте выводы какие цифры классификатор принимает за другие наиболее часто.\n",
    "6. Сравните качество стратегий OvR и OvO.\n",
    "\n",
    "**Логистическая регрессия**\n",
    "\n",
    "1. Возьмите датасет с данными по телефонной компании с прошлых уроков.\n",
    "2. Подготовьте данные для обучения.\n",
    "3. Нормализуйте данные с помощью MinMaxScaler (рассматривали в конце прошлого урока)\n",
    "4. Обучите логистическую регрессию на нормированных данных.\n",
    "5. Посчитайте метрики на тестовом и обучающем множествах."
   ]
  },
  {
   "cell_type": "markdown",
   "metadata": {},
   "source": [
    "**1. Загрузите из sklearn датасет с цифрами (каждый элемент кодирует изображение цифры размером 8х8)**"
   ]
  },
  {
   "cell_type": "code",
   "execution_count": 6,
   "metadata": {
    "id": "i_FttSlI1vYz"
   },
   "outputs": [],
   "source": [
    "# Загружаем датасет\n",
    "digits = load_digits()"
   ]
  },
  {
   "cell_type": "markdown",
   "metadata": {
    "id": "Yt9r6kex-QRk"
   },
   "source": [
    "Выводим информацию о датасете:\n",
    "print(digits.DESCR) \n",
    "Набор данных оптического распознавания рукописных цифр\n",
    "--------------------------------------------------\n",
    "Характеристики набора данных:\n",
    "    \n",
    "    :Количество экземпляров: 1797\n",
    "    :Количество атрибутов: 64\n",
    "    :Информация об атрибутах: изображение 8x8 из целочисленных пикселей в диапазоне 0..16.\n",
    "    :Отсутствующие значения атрибутов: Нет\n",
    "   \n",
    "Это копии тестового набора данных UCI ML по рукописным цифрам.\n",
    "Набор данных содержит изображения рукописных цифр: 10 классов, где\n",
    "каждый класс относится к одной цифре."
   ]
  },
  {
   "cell_type": "markdown",
   "metadata": {},
   "source": [
    "**2. Осмотрите данные и метки.**"
   ]
  },
  {
   "cell_type": "code",
   "execution_count": 7,
   "metadata": {
    "id": "r3Rjbsfz1vl3"
   },
   "outputs": [],
   "source": [
    "# Получаем данные и метки\n",
    "data = digits.data\n",
    "target = digits.target"
   ]
  },
  {
   "cell_type": "code",
   "execution_count": 8,
   "metadata": {
    "colab": {
     "base_uri": "https://localhost:8080/"
    },
    "id": "c-ucU7C0-lNM",
    "outputId": "b8838b64-acb3-4d0a-d05d-ba598937d09b"
   },
   "outputs": [
    {
     "data": {
      "text/plain": [
       "((1797, 64), (1797,))"
      ]
     },
     "execution_count": 8,
     "metadata": {},
     "output_type": "execute_result"
    }
   ],
   "source": [
    "data.shape, target.shape"
   ]
  },
  {
   "cell_type": "code",
   "execution_count": 9,
   "metadata": {
    "colab": {
     "base_uri": "https://localhost:8080/"
    },
    "id": "WXXHu8axFDdB",
    "outputId": "f93772ca-888d-4b46-ba0a-e19456de8199"
   },
   "outputs": [
    {
     "data": {
      "text/plain": [
       "array([[ 0.,  0.,  5., ...,  0.,  0.,  0.],\n",
       "       [ 0.,  0.,  0., ..., 10.,  0.,  0.],\n",
       "       [ 0.,  0.,  0., ..., 16.,  9.,  0.],\n",
       "       ...,\n",
       "       [ 0.,  0.,  1., ...,  6.,  0.,  0.],\n",
       "       [ 0.,  0.,  2., ..., 12.,  0.,  0.],\n",
       "       [ 0.,  0., 10., ..., 12.,  1.,  0.]])"
      ]
     },
     "execution_count": 9,
     "metadata": {},
     "output_type": "execute_result"
    }
   ],
   "source": [
    "data"
   ]
  },
  {
   "cell_type": "code",
   "execution_count": 10,
   "metadata": {
    "colab": {
     "base_uri": "https://localhost:8080/"
    },
    "id": "M6WPBVV2DIlT",
    "outputId": "2f35d192-3a9a-4132-98c0-53fe771f9865"
   },
   "outputs": [
    {
     "data": {
      "text/plain": [
       "array([ 0.,  0.,  5., 13.,  9.,  1.,  0.,  0.,  0.,  0., 13., 15., 10.,\n",
       "       15.,  5.,  0.,  0.,  3., 15.,  2.,  0., 11.,  8.,  0.,  0.,  4.,\n",
       "       12.,  0.,  0.,  8.,  8.,  0.,  0.,  5.,  8.,  0.,  0.,  9.,  8.,\n",
       "        0.,  0.,  4., 11.,  0.,  1., 12.,  7.,  0.,  0.,  2., 14.,  5.,\n",
       "       10., 12.,  0.,  0.,  0.,  0.,  6., 13., 10.,  0.,  0.,  0.])"
      ]
     },
     "execution_count": 10,
     "metadata": {},
     "output_type": "execute_result"
    }
   ],
   "source": [
    "data[0]# берём 1ю строку"
   ]
  },
  {
   "cell_type": "code",
   "execution_count": 11,
   "metadata": {
    "colab": {
     "base_uri": "https://localhost:8080/"
    },
    "id": "_Shggu54Ezz0",
    "outputId": "47d775d0-6d1f-4cac-f3ac-a917ab097c93"
   },
   "outputs": [
    {
     "data": {
      "text/plain": [
       "array([[ 0.,  0.,  5., 13.,  9.,  1.,  0.,  0.],\n",
       "       [ 0.,  0., 13., 15., 10., 15.,  5.,  0.],\n",
       "       [ 0.,  3., 15.,  2.,  0., 11.,  8.,  0.],\n",
       "       [ 0.,  4., 12.,  0.,  0.,  8.,  8.,  0.],\n",
       "       [ 0.,  5.,  8.,  0.,  0.,  9.,  8.,  0.],\n",
       "       [ 0.,  4., 11.,  0.,  1., 12.,  7.,  0.],\n",
       "       [ 0.,  2., 14.,  5., 10., 12.,  0.,  0.],\n",
       "       [ 0.,  0.,  6., 13., 10.,  0.,  0.,  0.]])"
      ]
     },
     "execution_count": 11,
     "metadata": {},
     "output_type": "execute_result"
    }
   ],
   "source": [
    "data[0].reshape(8, 8) # массив 8 на 8"
   ]
  },
  {
   "cell_type": "markdown",
   "metadata": {},
   "source": [
    "**3. попробуйте отобразить любое единичное изображение из набора с помощью matplotlib.**"
   ]
  },
  {
   "cell_type": "code",
   "execution_count": 12,
   "metadata": {
    "colab": {
     "base_uri": "https://localhost:8080/",
     "height": 265
    },
    "id": "pmGe_0Ek1vqA",
    "outputId": "5ab2d5c8-af0a-4cf8-d795-4cbfb65658c0"
   },
   "outputs": [
    {
     "data": {
      "image/png": "[encoded data removed]",
      "text/plain": [
       "<Figure size 640x480 with 1 Axes>"
      ]
     },
     "metadata": {},
     "output_type": "display_data"
    }
   ],
   "source": [
    "# Отображаем одно изображение из датасета\n",
    "plt.imshow(data[0].reshape(8, 8), cmap='gray')\n",
    "plt.show()"
   ]
  },
  {
   "cell_type": "markdown",
   "metadata": {
    "id": "2o2Ph5xWfA1g"
   },
   "source": [
    "**4. Примените тетрадку с прошлого урока к загруженному датасету в части многоклассовой классификации.**"
   ]
  },
  {
   "cell_type": "markdown",
   "metadata": {
    "id": "DorAceNafWcQ"
   },
   "source": [
    "**Многоклассовая классификация**"
   ]
  },
  {
   "cell_type": "code",
   "execution_count": 13,
   "metadata": {
    "id": "yexlmps-BPTu"
   },
   "outputs": [],
   "source": [
    "from sklearn.metrics import confusion_matrix, precision_score, \\\n",
    "              recall_score, f1_score, precision_recall_curve, roc_curve, roc_auc_score, \\\n",
    "              auc, mean_squared_error, accuracy_score"
   ]
  },
  {
   "cell_type": "code",
   "execution_count": 14,
   "metadata": {
    "id": "nW7IsTtYBPWB"
   },
   "outputs": [],
   "source": [
    "from sklearn.linear_model import SGDClassifier\n",
    "SGDclf = SGDClassifier (random_state = 42)"
   ]
  },
  {
   "cell_type": "markdown",
   "metadata": {
    "id": "SF505Odhgufw"
   },
   "source": []
  },
  {
   "cell_type": "code",
   "execution_count": 15,
   "metadata": {
    "colab": {
     "base_uri": "https://localhost:8080/",
     "height": 75
    },
    "id": "919vKSa9MrAh",
    "outputId": "dbd0f301-3c4e-4b1d-e69c-60009bc65cd6"
   },
   "outputs": [
    {
     "data": {
      "text/plain": [
       "SGDClassifier(random_state=42)"
      ]
     },
     "execution_count": 15,
     "metadata": {},
     "output_type": "execute_result"
    }
   ],
   "source": [
    "SGDclf.fit(data,target)"
   ]
  },
  {
   "cell_type": "markdown",
   "metadata": {
    "id": "YEVQeQfigrX8"
   },
   "source": [
    "SGDclf.score - это метод объекта классификатора, который вычисляет среднюю точность (accuracy) предсказаний на тестовом наборе данных. Метод score принимает на вход признаковую матрицу и соответствующие им целевые значения (метки классов) тестового набора данных, а затем возвращает значение точности классификации."
   ]
  },
  {
   "cell_type": "code",
   "execution_count": 16,
   "metadata": {
    "colab": {
     "base_uri": "https://localhost:8080/"
    },
    "id": "42BVuVP7MrDW",
    "outputId": "5daaa7c7-b675-479e-f9b8-c49c9f33db05"
   },
   "outputs": [
    {
     "data": {
      "text/plain": [
       "0.9699499165275459"
      ]
     },
     "execution_count": 16,
     "metadata": {},
     "output_type": "execute_result"
    }
   ],
   "source": [
    "SGDclf.score(data,target) "
   ]
  },
  {
   "cell_type": "markdown",
   "metadata": {
    "id": "adt2gTtjgn-0"
   },
   "source": [
    "SGDclf.predict - это метод объекта классификатора, который принимает на вход признаковую матрицу и возвращает предсказанные метки классов для каждого объекта из этой матрицы. используется для применения обученной модели на новых данных (например, тестовом наборе данных), чтобы получить предсказания классов для каждого объекта в этом наборе."
   ]
  },
  {
   "cell_type": "code",
   "execution_count": 17,
   "metadata": {
    "id": "zEMeOKTqMrF0"
   },
   "outputs": [],
   "source": [
    "pred = SGDclf.predict(data)"
   ]
  },
  {
   "cell_type": "code",
   "execution_count": 18,
   "metadata": {
    "colab": {
     "base_uri": "https://localhost:8080/"
    },
    "id": "lXEAPFRday0t",
    "outputId": "f89fb627-676a-4020-fd89-9bc391ac4b8d"
   },
   "outputs": [
    {
     "data": {
      "text/plain": [
       "array([0, 1, 2, ..., 8, 9, 8])"
      ]
     },
     "execution_count": 18,
     "metadata": {},
     "output_type": "execute_result"
    }
   ],
   "source": [
    "pred"
   ]
  },
  {
   "cell_type": "markdown",
   "metadata": {
    "id": "zk3kqk_5hujz"
   },
   "source": [
    "confusion_matrix(target, pred) - это функция из библиотеки sklearn.metrics, которая используется для вычисления матрицы неточностей (confusion matrix) между истинными метками классов target и предсказанными метками классов pred.\n",
    "\n",
    "Матрица неточностей - это таблица, которая показывает, как много объектов каждого класса были корректно или некорректно классифицированы моделью. Она часто используется для оценки качества работы классификатора."
   ]
  },
  {
   "cell_type": "markdown",
   "metadata": {},
   "source": [
    "**5. Рассмотрите матрицу неточностей, сделайте выводы какие цифры классификатор принимает за другие наиболее часто.**"
   ]
  },
  {
   "cell_type": "code",
   "execution_count": 21,
   "metadata": {
    "colab": {
     "base_uri": "https://localhost:8080/"
    },
    "id": "-LuDwez9MrIc",
    "outputId": "f04244b3-3e5f-4afe-959e-bc6e58905e30"
   },
   "outputs": [
    {
     "name": "stdout",
     "output_type": "stream",
     "text": [
      "[[178   0   0   0   0   0   0   0   0   0]\n",
      " [  0 164   1   1   0   0   0   0  14   2]\n",
      " [  0   0 176   0   0   0   0   0   1   0]\n",
      " [  0   0   0 166   0   5   0   1   8   3]\n",
      " [  0   1   0   0 174   1   1   1   1   2]\n",
      " [  0   0   0   0   0 180   0   0   1   1]\n",
      " [  0   0   0   0   0   0 180   0   1   0]\n",
      " [  0   0   0   0   0   0   0 175   1   3]\n",
      " [  0   1   0   0   0   0   0   0 173   0]\n",
      " [  0   0   0   0   0   0   0   0   3 177]]\n"
     ]
    }
   ],
   "source": [
    "cm = confusion_matrix(target, pred)\n",
    "print(cm)"
   ]
  },
  {
   "cell_type": "markdown",
   "metadata": {},
   "source": [
    "**Выводы**"
   ]
  },
  {
   "cell_type": "markdown",
   "metadata": {},
   "source": [
    " В 14  случаях классификатор принял '1' за '8'; \n",
    "\n",
    "В  8  случаях классификатор принял '3' за '8';\n",
    "\n",
    "В  5  случаях классификатор принял '3' за '5';\n",
    "\n",
    "В  3  случаях классификатор принял '3' за '9';\n",
    "\n",
    "В  3  случаях классификатор принял '7' за '9';\n",
    "\n",
    "В  2  случаях классификатор принял '1' за '9';\n",
    "\n",
    "В  3  случаях классификатор принял '9' за '8';"
   ]
  },
  {
   "cell_type": "code",
   "execution_count": 22,
   "metadata": {
    "colab": {
     "base_uri": "https://localhost:8080/",
     "height": 269
    },
    "id": "7zHqMsFhboZh",
    "outputId": "16b53c6f-1fe5-496b-a40b-3ef8607c4479"
   },
   "outputs": [
    {
     "data": {
      "image/png": "[encoded data removed]",
      "text/plain": [
       "<Figure size 640x480 with 2 Axes>"
      ]
     },
     "metadata": {},
     "output_type": "display_data"
    }
   ],
   "source": [
    "sns.heatmap(cm);"
   ]
  },
  {
   "cell_type": "markdown",
   "metadata": {},
   "source": [
    "**6. Сравните качество стратегий OvR и OvO.**"
   ]
  },
  {
   "cell_type": "markdown",
   "metadata": {},
   "source": [
    "**OvR**"
   ]
  },
  {
   "cell_type": "code",
   "execution_count": 23,
   "metadata": {
    "colab": {
     "base_uri": "https://localhost:8080/"
    },
    "id": "Zx6VKQcFMrLt",
    "outputId": "41697f32-7010-4325-dff2-1901bb6b7371"
   },
   "outputs": [],
   "source": [
    "# макро - считает метрики для каждой метки и берет среднее значение, независимо от размена. \n",
    "#precision_score(target, pred, average = 'macro'), recall_score(target, pred, average = 'macro'), f1_score(target, pred, average = 'macro') "
   ]
  },
  {
   "cell_type": "code",
   "execution_count": 26,
   "metadata": {
    "colab": {
     "base_uri": "https://localhost:8080/"
    },
    "id": "BprZMHJDbOQS",
    "outputId": "c6fa3823-87f0-48d5-dc97-94f692793bc3"
   },
   "outputs": [
    {
     "data": {
      "text/plain": [
       "array([[ 1942.42587775, -5378.4043211 , -2562.27079009, -1955.58617904,\n",
       "        -2091.08762485, -1348.40635089, -2061.00294552, -1188.5116464 ,\n",
       "         -609.24042194,  -781.48905294]])"
      ]
     },
     "execution_count": 26,
     "metadata": {},
     "output_type": "execute_result"
    }
   ],
   "source": [
    "SGDclf.decision_function([data[0]]) # выбираем наибольшее значение"
   ]
  },
  {
   "cell_type": "code",
   "execution_count": 27,
   "metadata": {
    "colab": {
     "base_uri": "https://localhost:8080/"
    },
    "id": "c4SFiy4_bOUD",
    "outputId": "4bab5a07-49a7-462e-d1ae-ecb6c9181fe7"
   },
   "outputs": [
    {
     "data": {
      "text/plain": [
       "array([0])"
      ]
     },
     "execution_count": 27,
     "metadata": {},
     "output_type": "execute_result"
    }
   ],
   "source": [
    "SGDclf.predict([data[0]])"
   ]
  },
  {
   "cell_type": "code",
   "execution_count": 28,
   "metadata": {
    "colab": {
     "base_uri": "https://localhost:8080/"
    },
    "id": "R0AIjC88bOW9",
    "outputId": "3a8c4f62-ea50-48e2-e36c-d266f4a42717"
   },
   "outputs": [
    {
     "data": {
      "text/plain": [
       "array([ 0.,  0.,  5., 13.,  9.,  1.,  0.,  0.,  0.,  0., 13., 15., 10.,\n",
       "       15.,  5.,  0.,  0.,  3., 15.,  2.,  0., 11.,  8.,  0.,  0.,  4.,\n",
       "       12.,  0.,  0.,  8.,  8.,  0.,  0.,  5.,  8.,  0.,  0.,  9.,  8.,\n",
       "        0.,  0.,  4., 11.,  0.,  1., 12.,  7.,  0.,  0.,  2., 14.,  5.,\n",
       "       10., 12.,  0.,  0.,  0.,  0.,  6., 13., 10.,  0.,  0.,  0.])"
      ]
     },
     "execution_count": 28,
     "metadata": {},
     "output_type": "execute_result"
    }
   ],
   "source": [
    "data[0]"
   ]
  },
  {
   "cell_type": "markdown",
   "metadata": {
    "id": "-SqGM7r6czdj"
   },
   "source": [
    "**OvO**\n",
    " \n",
    " (One-vs-One) - это метод бинарной классификации, который используется в задачах многоклассовой классификации. Суть метода заключается в том, чтобы обучать классификаторы для каждой пары классов. То есть, если у нас есть K классов, то нам нужно обучить K*(K-1)/2 классификаторов.  Каждый классификатор обучается на подмножестве данных, содержащем только два класса. Затем, для классификации нового объекта, мы применяем все K*(K-1)/2 классификаторов и выбираем класс, который набрал наибольшее количество голосов.\n"
   ]
  },
  {
   "cell_type": "code",
   "execution_count": 29,
   "metadata": {
    "id": "e2bnK4MKbOZ-"
   },
   "outputs": [],
   "source": [
    "from sklearn.multiclass import OneVsOneClassifier "
   ]
  },
  {
   "cell_type": "code",
   "execution_count": 30,
   "metadata": {
    "colab": {
     "base_uri": "https://localhost:8080/",
     "height": 118
    },
    "id": "b2eVqGJpADlM",
    "outputId": "9cc75311-4f60-4019-9177-1cac10be4062"
   },
   "outputs": [
    {
     "data": {
      "text/plain": [
       "OneVsOneClassifier(estimator=SGDClassifier(random_state=42))"
      ]
     },
     "execution_count": 30,
     "metadata": {},
     "output_type": "execute_result"
    }
   ],
   "source": [
    "ovoSGD = OneVsOneClassifier(SGDClassifier(random_state = 42))\n",
    "ovoSGD.fit(data,target)"
   ]
  },
  {
   "cell_type": "code",
   "execution_count": 31,
   "metadata": {
    "colab": {
     "base_uri": "https://localhost:8080/"
    },
    "id": "ho2mvDsBdcB2",
    "outputId": "8fb0fd8c-232a-4cda-fb66-66bbd55d9baa"
   },
   "outputs": [
    {
     "data": {
      "text/plain": [
       "array([[5.33317651, 5.3332988 , 4.66730856, 1.6666775 , 6.33326825,\n",
       "        2.66670422, 9.33332876, 0.66667661, 8.33332392, 0.66667314]])"
      ]
     },
     "execution_count": 31,
     "metadata": {},
     "output_type": "execute_result"
    }
   ],
   "source": [
    "ovoSGD.decision_function([data[65]])"
   ]
  },
  {
   "cell_type": "code",
   "execution_count": 32,
   "metadata": {
    "colab": {
     "base_uri": "https://localhost:8080/"
    },
    "id": "TOs9wy8cdb_R",
    "outputId": "0d9e0bda-9c42-4b80-98b2-4a4eddcbdb0c"
   },
   "outputs": [
    {
     "data": {
      "text/plain": [
       "array([6])"
      ]
     },
     "execution_count": 32,
     "metadata": {},
     "output_type": "execute_result"
    }
   ],
   "source": [
    "ovoSGD.predict([data[65]])"
   ]
  },
  {
   "cell_type": "code",
   "execution_count": 33,
   "metadata": {
    "colab": {
     "base_uri": "https://localhost:8080/"
    },
    "id": "hcN8u_Kvdb8y",
    "outputId": "802473fa-888c-44d0-98b7-d9d5adce1365"
   },
   "outputs": [
    {
     "data": {
      "text/plain": [
       "(SGDClassifier(random_state=42),\n",
       " SGDClassifier(random_state=42),\n",
       " SGDClassifier(random_state=42),\n",
       " SGDClassifier(random_state=42),\n",
       " SGDClassifier(random_state=42),\n",
       " SGDClassifier(random_state=42),\n",
       " SGDClassifier(random_state=42),\n",
       " SGDClassifier(random_state=42),\n",
       " SGDClassifier(random_state=42),\n",
       " SGDClassifier(random_state=42),\n",
       " SGDClassifier(random_state=42),\n",
       " SGDClassifier(random_state=42),\n",
       " SGDClassifier(random_state=42),\n",
       " SGDClassifier(random_state=42),\n",
       " SGDClassifier(random_state=42),\n",
       " SGDClassifier(random_state=42),\n",
       " SGDClassifier(random_state=42),\n",
       " SGDClassifier(random_state=42),\n",
       " SGDClassifier(random_state=42),\n",
       " SGDClassifier(random_state=42),\n",
       " SGDClassifier(random_state=42),\n",
       " SGDClassifier(random_state=42),\n",
       " SGDClassifier(random_state=42),\n",
       " SGDClassifier(random_state=42),\n",
       " SGDClassifier(random_state=42),\n",
       " SGDClassifier(random_state=42),\n",
       " SGDClassifier(random_state=42),\n",
       " SGDClassifier(random_state=42),\n",
       " SGDClassifier(random_state=42),\n",
       " SGDClassifier(random_state=42),\n",
       " SGDClassifier(random_state=42),\n",
       " SGDClassifier(random_state=42),\n",
       " SGDClassifier(random_state=42),\n",
       " SGDClassifier(random_state=42),\n",
       " SGDClassifier(random_state=42),\n",
       " SGDClassifier(random_state=42),\n",
       " SGDClassifier(random_state=42),\n",
       " SGDClassifier(random_state=42),\n",
       " SGDClassifier(random_state=42),\n",
       " SGDClassifier(random_state=42),\n",
       " SGDClassifier(random_state=42),\n",
       " SGDClassifier(random_state=42),\n",
       " SGDClassifier(random_state=42),\n",
       " SGDClassifier(random_state=42),\n",
       " SGDClassifier(random_state=42))"
      ]
     },
     "execution_count": 33,
     "metadata": {},
     "output_type": "execute_result"
    }
   ],
   "source": [
    "ovoSGD.estimators_"
   ]
  },
  {
   "cell_type": "code",
   "execution_count": 56,
   "metadata": {
    "id": "SH4xucGodb53"
   },
   "outputs": [],
   "source": [
    "pred = ovoSGD.predict(data)"
   ]
  },
  {
   "cell_type": "code",
   "execution_count": 57,
   "metadata": {
    "colab": {
     "base_uri": "https://localhost:8080/"
    },
    "id": "qZdNOqE3db3J",
    "outputId": "91e54463-9fd7-449a-d06b-109b8e7b3931"
   },
   "outputs": [
    {
     "data": {
      "text/plain": [
       "(1.0, 1.0, 1.0)"
      ]
     },
     "execution_count": 57,
     "metadata": {},
     "output_type": "execute_result"
    }
   ],
   "source": [
    "# макро - считает метрики для каждой метки и берет среднее значение. \n",
    "precision_score(target, pred, average = 'macro'), recall_score(target, pred, average = 'macro'), f1_score(target, pred, average = 'macro') "
   ]
  },
  {
   "cell_type": "markdown",
   "metadata": {},
   "source": [
    "Выводы? \n",
    "\n",
    "** OvR и ** OvO "
   ]
  },
  {
   "cell_type": "markdown",
   "metadata": {},
   "source": [
    "**1. Возьмите датасет с данными по телефонной компании с прошлых уроков.**"
   ]
  },
  {
   "cell_type": "markdown",
   "metadata": {
    "id": "8zA927I0lBFj"
   },
   "source": [
    "***Логистическая регрессия***"
   ]
  },
  {
   "cell_type": "code",
   "execution_count": 166,
   "metadata": {
    "id": "UAhQ284gSqhn"
   },
   "outputs": [],
   "source": [
    "from sklearn.preprocessing import MinMaxScaler\n",
    "from sklearn.metrics import accuracy_score, precision_score, recall_score, f1_score\n",
    "mm = MinMaxScaler()"
   ]
  },
  {
   "cell_type": "code",
   "execution_count": 167,
   "metadata": {
    "id": "24BiIn8GWK0u"
   },
   "outputs": [],
   "source": [
    "# Загрузка данных / chunksize=None\n",
    "df = pd.read_csv('churn-bigml-80.csv')"
   ]
  },
  {
   "cell_type": "markdown",
   "metadata": {},
   "source": [
    "**2. Подготовьте данные для обучения.**"
   ]
  },
  {
   "cell_type": "code",
   "execution_count": 168,
   "metadata": {
    "id": "oJ6jq4BqX8_h"
   },
   "outputs": [],
   "source": [
    "df['International plan'] = df['International plan'].map({'No':0, 'Yes':1})\n",
    "df['Voice mail plan'] = df['Voice mail plan'].map({'No':0, 'Yes':1})\n",
    "df['Churn'] = df['Churn'].map({False:0, True:1})"
   ]
  },
  {
   "cell_type": "code",
   "execution_count": 169,
   "metadata": {
    "id": "zPb0KXZoXESZ"
   },
   "outputs": [],
   "source": [
    "X_train = df.drop(['State', 'Account length', 'Area code' , 'Churn'], axis = 1)\n",
    "y_train = df['Churn']"
   ]
  },
  {
   "cell_type": "code",
   "execution_count": 170,
   "metadata": {
    "id": "RsQdZl0GdNOI"
   },
   "outputs": [],
   "source": [
    "# Загрузка данных test\n",
    "df1 = pd.read_csv('churn-bigml-20.csv')"
   ]
  },
  {
   "cell_type": "code",
   "execution_count": 171,
   "metadata": {
    "id": "G0IHGOncdNQx"
   },
   "outputs": [],
   "source": [
    "df1['International plan'] = df1['International plan'].map({'No':0, 'Yes':1})\n",
    "df1['Voice mail plan'] = df1['Voice mail plan'].map({'No':0, 'Yes':1})\n",
    "df1['Churn'] = df1['Churn'].map({False:0, True:1})"
   ]
  },
  {
   "cell_type": "code",
   "execution_count": 172,
   "metadata": {
    "id": "jScSUbm0dNTg"
   },
   "outputs": [],
   "source": [
    "X_test = df1.drop(['State', 'Account length', 'Area code' , 'Churn'], axis = 1)\n",
    "y_test = df1['Churn']"
   ]
  },
  {
   "cell_type": "code",
   "execution_count": 173,
   "metadata": {},
   "outputs": [
    {
     "data": {
      "text/plain": [
       "((2666, 16), (2666,))"
      ]
     },
     "execution_count": 173,
     "metadata": {},
     "output_type": "execute_result"
    }
   ],
   "source": [
    "X_train.shape,y_train.shape"
   ]
  },
  {
   "cell_type": "markdown",
   "metadata": {},
   "source": [
    "**3. Нормализуйте данные с помощью MinMaxScaler (рассматривали в конце прошлого урока)**"
   ]
  },
  {
   "cell_type": "code",
   "execution_count": 174,
   "metadata": {
    "id": "TVyKX3wLdNZK"
   },
   "outputs": [],
   "source": [
    "mm = MinMaxScaler() # создаем объект для нормировки данных\n",
    "X_train_norm = mm.fit_transform(X_train)# нормируем обучающее множество\n",
    "X_test_norm = mm.transform(X_test)# нормируем тестовое множество"
   ]
  },
  {
   "cell_type": "code",
   "execution_count": 175,
   "metadata": {
    "colab": {
     "base_uri": "https://localhost:8080/"
    },
    "id": "t-08E-X6dnVE",
    "outputId": "7ba0ae01-3dbe-497e-fe9b-ab4211bf1a2c"
   },
   "outputs": [
    {
     "data": {
      "text/plain": [
       "array([[0.        , 1.        , 0.5       , ..., 0.15      , 0.5       ,\n",
       "        0.11111111],\n",
       "       [0.        , 1.        , 0.52      , ..., 0.15      , 0.68518519,\n",
       "        0.11111111],\n",
       "       [0.        , 0.        , 0.        , ..., 0.25      , 0.60925926,\n",
       "        0.        ],\n",
       "       ...,\n",
       "       [0.        , 0.        , 0.        , ..., 0.2       , 0.47962963,\n",
       "        0.33333333],\n",
       "       [0.        , 0.        , 0.        , ..., 0.3       , 0.70555556,\n",
       "        0.22222222],\n",
       "       [0.        , 1.        , 0.5       , ..., 0.2       , 0.68518519,\n",
       "        0.        ]])"
      ]
     },
     "execution_count": 175,
     "metadata": {},
     "output_type": "execute_result"
    }
   ],
   "source": [
    "X_train_norm"
   ]
  },
  {
   "cell_type": "code",
   "execution_count": 176,
   "metadata": {
    "colab": {
     "base_uri": "https://localhost:8080/"
    },
    "id": "YjphrVc9dnYB",
    "outputId": "efe4a18e-6aaf-4f82-de93-4abda1b3ba31"
   },
   "outputs": [
    {
     "data": {
      "text/plain": [
       "array([[0.        , 0.        , 0.        , ..., 0.2       , 0.43518519,\n",
       "        0.11111111],\n",
       "       [0.        , 0.        , 0.        , ..., 0.3       , 0.63518519,\n",
       "        0.44444444],\n",
       "       [0.        , 0.        , 0.        , ..., 0.45      , 0.27037037,\n",
       "        0.44444444],\n",
       "       ...,\n",
       "       [0.        , 0.        , 0.        , ..., 0.4       , 0.65925926,\n",
       "        0.33333333],\n",
       "       [0.        , 0.        , 0.        , ..., 0.2       , 0.57962963,\n",
       "        0.11111111],\n",
       "       [1.        , 0.        , 0.        , ..., 0.5       , 0.25      ,\n",
       "        0.22222222]])"
      ]
     },
     "execution_count": 176,
     "metadata": {},
     "output_type": "execute_result"
    }
   ],
   "source": [
    "X_test_norm"
   ]
  },
  {
   "cell_type": "code",
   "execution_count": 177,
   "metadata": {},
   "outputs": [
    {
     "data": {
      "text/plain": [
       "((2666, 16), (667, 16))"
      ]
     },
     "execution_count": 177,
     "metadata": {},
     "output_type": "execute_result"
    }
   ],
   "source": [
    "X_train_norm.shape, X_test_norm.shape"
   ]
  },
  {
   "cell_type": "markdown",
   "metadata": {},
   "source": [
    "**4. Обучите логистическую регрессию на нормированных данных.**"
   ]
  },
  {
   "cell_type": "code",
   "execution_count": 220,
   "metadata": {
    "id": "ohVg2Q-Qdna6"
   },
   "outputs": [],
   "source": [
    "from sklearn.linear_model import LogisticRegression\n",
    "# создание объекта класса LogisticRegression\n",
    "logReg = LogisticRegression()"
   ]
  },
  {
   "cell_type": "code",
   "execution_count": 221,
   "metadata": {
    "colab": {
     "base_uri": "https://localhost:8080/",
     "height": 75
    },
    "id": "HchzxKF-e0a6",
    "outputId": "c4ef91cf-239b-45cb-9bc4-cba0fc7f14ad"
   },
   "outputs": [
    {
     "data": {
      "text/plain": [
       "LogisticRegression()"
      ]
     },
     "execution_count": 221,
     "metadata": {},
     "output_type": "execute_result"
    }
   ],
   "source": [
    "logReg.fit(X_train_norm, y_train) #обучаем классификатор на нормированных данных"
   ]
  },
  {
   "cell_type": "code",
   "execution_count": 222,
   "metadata": {},
   "outputs": [
    {
     "data": {
      "text/plain": [
       "0.8545727136431784"
      ]
     },
     "execution_count": 222,
     "metadata": {},
     "output_type": "execute_result"
    }
   ],
   "source": [
    "logReg.score(X_test_norm, y_test)"
   ]
  },
  {
   "cell_type": "code",
   "execution_count": 223,
   "metadata": {},
   "outputs": [],
   "source": [
    "# предсказание на обучающем множестве\n",
    "y_train_pred = logReg.predict(X_train_norm)"
   ]
  },
  {
   "cell_type": "code",
   "execution_count": 224,
   "metadata": {},
   "outputs": [
    {
     "data": {
      "text/plain": [
       "array([1], dtype=int64)"
      ]
     },
     "execution_count": 224,
     "metadata": {},
     "output_type": "execute_result"
    }
   ],
   "source": [
    "#делаем прогноз\n",
    "logReg.predict([X_test_norm[2]])"
   ]
  },
  {
   "cell_type": "code",
   "execution_count": 225,
   "metadata": {},
   "outputs": [
    {
     "data": {
      "text/plain": [
       "1"
      ]
     },
     "execution_count": 225,
     "metadata": {},
     "output_type": "execute_result"
    }
   ],
   "source": [
    "logReg.predict([X_test_norm[2]]).sum()"
   ]
  },
  {
   "cell_type": "code",
   "execution_count": 226,
   "metadata": {},
   "outputs": [
    {
     "data": {
      "text/plain": [
       "array([[0.446193, 0.553807]])"
      ]
     },
     "execution_count": 226,
     "metadata": {},
     "output_type": "execute_result"
    }
   ],
   "source": [
    "logReg.predict_proba([X_test_norm[2]])"
   ]
  },
  {
   "cell_type": "markdown",
   "metadata": {},
   "source": [
    "**5. Посчитайте метрики на тестовом и обучающем множествах.**"
   ]
  },
  {
   "cell_type": "code",
   "execution_count": 227,
   "metadata": {
    "id": "uL7d3hxPg7kp"
   },
   "outputs": [],
   "source": [
    "# оценка качества модели на обучающих данных\n",
    "train_accuracy = accuracy_score(y_train, y_train_pred)\n",
    "train_precision = precision_score(y_train, y_train_pred)\n",
    "train_recall = recall_score(y_train, y_train_pred)\n",
    "train_f1 = f1_score(y_train, y_train_pred)"
   ]
  },
  {
   "cell_type": "code",
   "execution_count": 228,
   "metadata": {
    "colab": {
     "base_uri": "https://localhost:8080/"
    },
    "id": "WGkyUDychNi-",
    "outputId": "2b674f30-6342-4f2e-86eb-f71aa707ba73"
   },
   "outputs": [
    {
     "data": {
      "text/plain": [
       "(0.8653413353338335,\n",
       " 0.6218487394957983,\n",
       " 0.19072164948453607,\n",
       " 0.29191321499013806)"
      ]
     },
     "execution_count": 228,
     "metadata": {},
     "output_type": "execute_result"
    }
   ],
   "source": [
    "train_accuracy, train_precision, train_recall,train_f1"
   ]
  },
  {
   "cell_type": "code",
   "execution_count": 229,
   "metadata": {
    "id": "xfsoQ_u_e0YL"
   },
   "outputs": [],
   "source": [
    "# применение обученной модели к тестовым данным\n",
    "y_test_pred = logreg.predict(X_test_norm)"
   ]
  },
  {
   "cell_type": "code",
   "execution_count": null,
   "metadata": {
    "id": "4bxtJCLHhncX"
   },
   "outputs": [],
   "source": []
  },
  {
   "cell_type": "code",
   "execution_count": 230,
   "metadata": {
    "id": "cM3FiFO8e0T6"
   },
   "outputs": [],
   "source": [
    "# оценка качества модели на тестовых данных\n",
    "accuracy = accuracy_score(y_test, y_test_pred)\n",
    "precision = precision_score(y_test, y_test_pred)\n",
    "recall = recall_score(y_test, y_test_pred)\n",
    "f1 = f1_score(y_test, y_test_pred)"
   ]
  },
  {
   "cell_type": "code",
   "execution_count": 231,
   "metadata": {
    "colab": {
     "base_uri": "https://localhost:8080/"
    },
    "id": "ScjG9dIfdnd0",
    "outputId": "b7a20de6-4486-4872-d7e8-f65a8c329962"
   },
   "outputs": [
    {
     "data": {
      "text/plain": [
       "(0.8545727136431784,\n",
       " 0.4642857142857143,\n",
       " 0.1368421052631579,\n",
       " 0.21138211382113825)"
      ]
     },
     "execution_count": 231,
     "metadata": {},
     "output_type": "execute_result"
    }
   ],
   "source": [
    "accuracy, precision, recall, f1"
   ]
  },
  {
   "cell_type": "markdown",
   "metadata": {
    "id": "2NJQTtmFh7Z4"
   },
   "source": [
    "\n",
    "Здесь мы используем функции `accuracy_score()`, `precision_score()`, `recall_score()` и `f1_score()` из модуля `sklearn.metrics` для подсчета метрик. Все эти функции принимают два аргумента: истинные метки классов и предсказанные метки классов. \n",
    "\n",
    "Метрика accuracy (точность) показывает долю правильных ответов модели. Метрики precision (точность), recall (полнота) и F1-мера являются метриками качества классификации, которые учитывают как правильно определены положительные классы (precision), так и как правильно определены все положительные примеры (recall). F1-мера является средним гармоническим между precision и recall. \n",
    "\n",
    "Из-за того, что данные разделены на обучающий и тестовый наборы, мы можем оценить качество модели как на тех данных, на которых она обучалась (train), так и на новых данных, которые она не видела ранее (test).\n"
   ]
  },
  {
   "cell_type": "code",
   "execution_count": null,
   "metadata": {},
   "outputs": [],
   "source": []
  },
  {
   "cell_type": "code",
   "execution_count": 232,
   "metadata": {},
   "outputs": [
    {
     "data": {
      "text/plain": [
       "array([[557,  15],\n",
       "       [ 82,  13]], dtype=int64)"
      ]
     },
     "execution_count": 232,
     "metadata": {},
     "output_type": "execute_result"
    }
   ],
   "source": [
    "confusion_matrix(y_test, y_test_pred)"
   ]
  }
 ],
 "metadata": {
  "colab": {
   "provenance": []
  },
  "kernelspec": {
   "display_name": "Python 3 (ipykernel)",
   "language": "python",
   "name": "python3"
  },
  "language_info": {
   "codemirror_mode": {
    "name": "ipython",
    "version": 3
   },
   "file_extension": ".py",
   "mimetype": "text/x-python",
   "name": "python",
   "nbconvert_exporter": "python",
   "pygments_lexer": "ipython3",
   "version": "3.9.13"
  }
 },
 "nbformat": 4,
 "nbformat_minor": 1
}
